{
 "metadata": {
  "name": "",
  "signature": "sha256:394d3144558f7c6ba9e1f22dfd43a44ac54e0aa2739d8f5cd864d9d76fdce3d6"
 },
 "nbformat": 3,
 "nbformat_minor": 0,
 "worksheets": [
  {
   "cells": [
    {
     "cell_type": "markdown",
     "metadata": {},
     "source": [
      "# Lab 03a - Numpy"
     ]
    },
    {
     "cell_type": "markdown",
     "metadata": {},
     "source": [
      "Fill in the following and submit as a pull request as usual."
     ]
    },
    {
     "cell_type": "code",
     "collapsed": false,
     "input": [
      "import numpy as np"
     ],
     "language": "python",
     "metadata": {},
     "outputs": [],
     "prompt_number": 1
    },
    {
     "cell_type": "markdown",
     "metadata": {},
     "source": [
      "### Basic operations"
     ]
    },
    {
     "cell_type": "code",
     "collapsed": false,
     "input": [
      "a = np.random.randint(1, 1000, (3, 4))\n",
      "a"
     ],
     "language": "python",
     "metadata": {},
     "outputs": [
      {
       "metadata": {},
       "output_type": "pyout",
       "prompt_number": 162,
       "text": [
        "array([[893,  42, 806, 412],\n",
        "       [779, 291, 762,  59],\n",
        "       [650, 777, 726, 471]])"
       ]
      }
     ],
     "prompt_number": 162
    },
    {
     "cell_type": "markdown",
     "metadata": {},
     "source": [
      "describe what the following methods of the array, `a`, do:\n",
      "\n",
      "* shape - gives the dimensions of the array\n",
      "* dtype - returns the data type of array elements\n",
      "* flatten - reshape to a 1xn array\n",
      "* max/min - return min/max of all elements of array\n",
      "* argmax/argmin - returns indexes of max/min element along a dimension\n",
      "* argsort - sort along a given dimesion and return array of indexes\n",
      "* T - transpose\n",
      "* copy - returns a new copy of an array\n",
      "* diagonal - returns elements on the diagonal"
     ]
    },
    {
     "cell_type": "code",
     "collapsed": false,
     "input": [
      "# play with a here\n",
      "a.flatten()\n",
      "\n"
     ],
     "language": "python",
     "metadata": {},
     "outputs": [
      {
       "metadata": {},
       "output_type": "pyout",
       "prompt_number": 164,
       "text": [
        "array([893,  42, 806, 412, 779, 291, 762,  59, 650, 777, 726, 471])"
       ]
      }
     ],
     "prompt_number": 164
    },
    {
     "cell_type": "markdown",
     "metadata": {},
     "source": [
      "find the sum of each row of a"
     ]
    },
    {
     "cell_type": "code",
     "collapsed": false,
     "input": [
      "np.sum(a,1)"
     ],
     "language": "python",
     "metadata": {},
     "outputs": [
      {
       "metadata": {},
       "output_type": "pyout",
       "prompt_number": 63,
       "text": [
        "array([3359, 2163, 2632])"
       ]
      }
     ],
     "prompt_number": 63
    },
    {
     "cell_type": "markdown",
     "metadata": {},
     "source": [
      "Compare the running times of these operations"
     ]
    },
    {
     "cell_type": "code",
     "collapsed": false,
     "input": [
      "a = [np.random.random() for _ in xrange(1000)]  # this pattern is called a list comprehension\n",
      "%timeit max(a)  # python builtin"
     ],
     "language": "python",
     "metadata": {},
     "outputs": [
      {
       "output_type": "stream",
       "stream": "stdout",
       "text": [
        "10000 loops, best of 3: 27.7 \u00b5s per loop\n"
       ]
      }
     ],
     "prompt_number": 64
    },
    {
     "cell_type": "code",
     "collapsed": false,
     "input": [
      "b = np.array(a)\n",
      "%timeit b.max()  # numpy array method"
     ],
     "language": "python",
     "metadata": {},
     "outputs": [
      {
       "output_type": "stream",
       "stream": "stdout",
       "text": [
        "100000 loops, best of 3: 4.68 \u00b5s per loop\n"
       ]
      }
     ],
     "prompt_number": 65
    },
    {
     "cell_type": "code",
     "collapsed": false,
     "input": [
      "%%timeit\n",
      "a = []\n",
      "for i in xrange(1000):\n",
      "    # append i to the list a\n",
      "    a.append(i)\n",
      "    "
     ],
     "language": "python",
     "metadata": {},
     "outputs": [
      {
       "output_type": "stream",
       "stream": "stdout",
       "text": [
        "10000 loops, best of 3: 101 \u00b5s per loop\n"
       ]
      }
     ],
     "prompt_number": 66
    },
    {
     "cell_type": "code",
     "collapsed": false,
     "input": [
      "%%timeit\n",
      "b = np.array([])\n",
      "for i in xrange(1000):\n",
      "    # append i to the numpy array b\n",
      "    np.append(b,i)\n",
      "    "
     ],
     "language": "python",
     "metadata": {},
     "outputs": [
      {
       "output_type": "stream",
       "stream": "stdout",
       "text": [
        "100 loops, best of 3: 5.37 ms per loop\n"
       ]
      }
     ],
     "prompt_number": 69
    },
    {
     "cell_type": "markdown",
     "metadata": {},
     "source": [
      "Return the square root (`np.sqrt(x)`) of every element in the list `a` and the array `b`, and time it."
     ]
    },
    {
     "cell_type": "code",
     "collapsed": false,
     "input": [
      "a = range(1000)\n",
      "b = np.array(a)"
     ],
     "language": "python",
     "metadata": {},
     "outputs": []
    },
    {
     "cell_type": "code",
     "collapsed": false,
     "input": [
      "# find the time to take the sqrt of every element of a\n",
      "\n",
      "%timeit [x**0.5 for x in a]# code here"
     ],
     "language": "python",
     "metadata": {},
     "outputs": [
      {
       "output_type": "stream",
       "stream": "stdout",
       "text": [
        "10000 loops, best of 3: 107 \u00b5s per loop\n"
       ]
      }
     ],
     "prompt_number": 70
    },
    {
     "cell_type": "code",
     "collapsed": false,
     "input": [
      "# find the time to take the sqrt of every element of b (hint: take advantage of array broadcasting)\n",
      "\n",
      "%timeit np.sqrt(b)# code here"
     ],
     "language": "python",
     "metadata": {},
     "outputs": [
      {
       "output_type": "stream",
       "stream": "stdout",
       "text": [
        "100000 loops, best of 3: 3.83 \u00b5s per loop\n"
       ]
      }
     ],
     "prompt_number": 72
    },
    {
     "cell_type": "markdown",
     "metadata": {},
     "source": [
      "What are the strengths and weaknesses of arrays vs. lists?\n",
      "\n",
      "*Arrays are less flexible, especially in terms of typing, but they are much faster to operate on*\n"
     ]
    },
    {
     "cell_type": "markdown",
     "metadata": {},
     "source": [
      "### Constructors"
     ]
    },
    {
     "cell_type": "markdown",
     "metadata": {},
     "source": [
      "construct the following ndarray without explicitly defining it. i.e. use constructors and broadcasting arithmetic:\n",
      "\\begin{pmatrix}\n",
      "1 & 2 & 2 \\\\\n",
      "2 & 1 & 2 \\\\\n",
      "2 & 2 & 1\n",
      "\\end{pmatrix}"
     ]
    },
    {
     "cell_type": "code",
     "collapsed": false,
     "input": [
      "a = np.ones((3,3), dtype=np.int)*2 - np.eye(3,dtype=np.int)\n",
      "a\n",
      "\n"
     ],
     "language": "python",
     "metadata": {},
     "outputs": [
      {
       "metadata": {},
       "output_type": "pyout",
       "prompt_number": 87,
       "text": [
        "array([[1, 2, 2],\n",
        "       [2, 1, 2],\n",
        "       [2, 2, 1]])"
       ]
      }
     ],
     "prompt_number": 87
    },
    {
     "cell_type": "markdown",
     "metadata": {},
     "source": [
      "construct the following ndarray without explicitly defining it.\n",
      "\\begin{pmatrix}\n",
      "1 & 2 & 3 & 4 \\\\\n",
      "5 & 6 & 7 & 8 \\\\\n",
      "9 & 10 & 11 & 12\n",
      "\\end{pmatrix}"
     ]
    },
    {
     "cell_type": "code",
     "collapsed": false,
     "input": [
      "a = np.reshape(np.arange(1,13,dtype=np.int),(3,4))\n",
      "a"
     ],
     "language": "python",
     "metadata": {},
     "outputs": [
      {
       "metadata": {},
       "output_type": "pyout",
       "prompt_number": 91,
       "text": [
        "array([[ 1,  2,  3,  4],\n",
        "       [ 5,  6,  7,  8],\n",
        "       [ 9, 10, 11, 12]])"
       ]
      }
     ],
     "prompt_number": 91
    },
    {
     "cell_type": "markdown",
     "metadata": {},
     "source": [
      "### Data Types"
     ]
    },
    {
     "cell_type": "markdown",
     "metadata": {},
     "source": [
      "What results from operations between lists and arrays? Explain the result of the following cell:"
     ]
    },
    {
     "cell_type": "code",
     "collapsed": false,
     "input": [],
     "language": "python",
     "metadata": {},
     "outputs": [
      {
       "ename": "AttributeError",
       "evalue": "'module' object has no attribute 'arrange'",
       "output_type": "pyerr",
       "traceback": [
        "\u001b[0;31m---------------------------------------------------------------------------\u001b[0m\n\u001b[0;31mAttributeError\u001b[0m                            Traceback (most recent call last)",
        "\u001b[0;32m<ipython-input-93-2d1ca2141dfb>\u001b[0m in \u001b[0;36m<module>\u001b[0;34m()\u001b[0m\n\u001b[0;32m----> 1\u001b[0;31m \u001b[0mnp\u001b[0m\u001b[0;34m.\u001b[0m\u001b[0marrange\u001b[0m\u001b[0;34m(\u001b[0m\u001b[0;36m10\u001b[0m\u001b[0;34m)\u001b[0m\u001b[0;34m\u001b[0m\u001b[0m\n\u001b[0m",
        "\u001b[0;31mAttributeError\u001b[0m: 'module' object has no attribute 'arrange'"
       ]
      }
     ],
     "prompt_number": 93
    },
    {
     "cell_type": "code",
     "collapsed": false,
     "input": [
      "range(10) + np.arange(10)\n",
      "#adds two lots of 0-9 (incl)"
     ],
     "language": "python",
     "metadata": {},
     "outputs": [
      {
       "metadata": {},
       "output_type": "pyout",
       "prompt_number": 94,
       "text": [
        "array([ 0,  2,  4,  6,  8, 10, 12, 14, 16, 18])"
       ]
      }
     ],
     "prompt_number": 94
    },
    {
     "cell_type": "markdown",
     "metadata": {},
     "source": [
      "Are certain numpy datatypes dominant over others? Trying combining arrays of the following pairs of types in a similar manner and see what results:"
     ]
    },
    {
     "cell_type": "code",
     "collapsed": false,
     "input": [
      "# np.int16, np.int64\n",
      "a = np.arange(10,dtype=np.int16) + np.arange(10,dtype=np.int64)\n",
      "a.dtype\n",
      "# casts up to int6"
     ],
     "language": "python",
     "metadata": {},
     "outputs": [
      {
       "metadata": {},
       "output_type": "pyout",
       "prompt_number": 102,
       "text": [
        "dtype('int64')"
       ]
      }
     ],
     "prompt_number": 102
    },
    {
     "cell_type": "code",
     "collapsed": false,
     "input": [
      "# np.int16, np.float64\n",
      "a = np.arange(10,dtype=np.int16) + np.arange(10,dtype=np.float64)\n",
      "a.dtype\n",
      "# casts up to float64"
     ],
     "language": "python",
     "metadata": {},
     "outputs": [
      {
       "metadata": {},
       "output_type": "pyout",
       "prompt_number": 103,
       "text": [
        "dtype('float64')"
       ]
      }
     ],
     "prompt_number": 103
    },
    {
     "cell_type": "code",
     "collapsed": false,
     "input": [
      "# np.int16, np.uint16\n",
      "a = np.arange(10,dtype=np.int16) + np.arange(10,dtype=np.uint64)\n",
      "a.dtype\n",
      "# casts up to float64"
     ],
     "language": "python",
     "metadata": {},
     "outputs": [
      {
       "metadata": {},
       "output_type": "pyout",
       "prompt_number": 104,
       "text": [
        "dtype('float64')"
       ]
      }
     ],
     "prompt_number": 104
    },
    {
     "cell_type": "markdown",
     "metadata": {},
     "source": [
      "Explain what happens with the following statements:"
     ]
    },
    {
     "cell_type": "code",
     "collapsed": false,
     "input": [
      "a = np.array([1, 4, 3.0, 6])\n",
      "a.dtype\n",
      "# casts up to float64"
     ],
     "language": "python",
     "metadata": {},
     "outputs": [
      {
       "metadata": {},
       "output_type": "pyout",
       "prompt_number": 106,
       "text": [
        "dtype('float64')"
       ]
      }
     ],
     "prompt_number": 106
    },
    {
     "cell_type": "code",
     "collapsed": false,
     "input": [
      "a = np.array([1, 'a', 3, 7])\n",
      "a.dtype\n",
      "# casts to string"
     ],
     "language": "python",
     "metadata": {},
     "outputs": [
      {
       "metadata": {},
       "output_type": "pyout",
       "prompt_number": 107,
       "text": [
        "dtype('S1')"
       ]
      }
     ],
     "prompt_number": 107
    },
    {
     "cell_type": "code",
     "collapsed": false,
     "input": [
      "a = np.array(set([1, 4, 4, 5]))\n",
      "a.dtype\n",
      "# Object type 'o'? General object?"
     ],
     "language": "python",
     "metadata": {},
     "outputs": [],
     "prompt_number": 109
    },
    {
     "cell_type": "markdown",
     "metadata": {},
     "source": [
      "### Functions"
     ]
    },
    {
     "cell_type": "markdown",
     "metadata": {},
     "source": [
      "Use one of numpy's [builtin functions](http://docs.scipy.org/doc/numpy-1.8.1/reference/routines.math.html) to find the first 100 [triangular numbers](http://en.wikipedia.org/wiki/Triangular_number)"
     ]
    },
    {
     "cell_type": "code",
     "collapsed": false,
     "input": [
      "# this can be a one-liner\n",
      "a = np.cumsum(np.arange(1,101))"
     ],
     "language": "python",
     "metadata": {},
     "outputs": [
      {
       "metadata": {},
       "output_type": "pyout",
       "prompt_number": 114,
       "text": [
        "array([   1,    3,    6,   10,   15,   21,   28,   36,   45,   55,   66,\n",
        "         78,   91,  105,  120,  136,  153,  171,  190,  210,  231,  253,\n",
        "        276,  300,  325,  351,  378,  406,  435,  465,  496,  528,  561,\n",
        "        595,  630,  666,  703,  741,  780,  820,  861,  903,  946,  990,\n",
        "       1035, 1081, 1128, 1176, 1225, 1275, 1326, 1378, 1431, 1485, 1540,\n",
        "       1596, 1653, 1711, 1770, 1830, 1891, 1953, 2016, 2080, 2145, 2211,\n",
        "       2278, 2346, 2415, 2485, 2556, 2628, 2701, 2775, 2850, 2926, 3003,\n",
        "       3081, 3160, 3240, 3321, 3403, 3486, 3570, 3655, 3741, 3828, 3916,\n",
        "       4005, 4095, 4186, 4278, 4371, 4465, 4560, 4656, 4753, 4851, 4950,\n",
        "       5050])"
       ]
      }
     ],
     "prompt_number": 114
    },
    {
     "cell_type": "markdown",
     "metadata": {},
     "source": [
      "compute the matrix product of these two arrays (not element-wise)\n",
      "\n",
      "\\begin{equation} \\begin{pmatrix}\n",
      "3 & 4 & 5 \\\\\n",
      "5 & 4 & 3 \\\\\n",
      "1 & 2 & 3\n",
      "\\end{pmatrix}\n",
      "\\begin{pmatrix}\n",
      "10 \\\\\n",
      "20 \\\\\n",
      "30\n",
      "\\end{pmatrix}\\end{equation}"
     ]
    },
    {
     "cell_type": "code",
     "collapsed": false,
     "input": [
      "a = np.array([[3, 4, 5], [5, 4, 3], [1, 2, 3]])\n",
      "b = np.array([10, 20, 30])\n",
      "a, b"
     ],
     "language": "python",
     "metadata": {},
     "outputs": [
      {
       "metadata": {},
       "output_type": "pyout",
       "prompt_number": 123,
       "text": [
        "(array([[3, 4, 5],\n",
        "        [5, 4, 3],\n",
        "        [1, 2, 3]]), array([10, 20, 30]))"
       ]
      }
     ],
     "prompt_number": 123
    },
    {
     "cell_type": "code",
     "collapsed": false,
     "input": [
      "# matrix multiplication. You should get a vector as your output.\n",
      "print np.dot(a,b)\n"
     ],
     "language": "python",
     "metadata": {},
     "outputs": [
      {
       "output_type": "stream",
       "stream": "stdout",
       "text": [
        "[260 220 140]\n"
       ]
      }
     ],
     "prompt_number": 137
    },
    {
     "cell_type": "markdown",
     "metadata": {},
     "source": [
      "combine these vectors into a matrix\n",
      "\\begin{pmatrix}\n",
      "0 & 10 & 100 \\\\\n",
      "1 & 11 & 110 \\\\\n",
      "2 & 12 & 120 \\\\\n",
      "3 & 13 & 130\n",
      "\\end{pmatrix}"
     ]
    },
    {
     "cell_type": "code",
     "collapsed": false,
     "input": [
      "a, b, c = np.arange(4), np.arange(10, 14), np.arange(100, 140, 10)\n",
      "a, b, c"
     ],
     "language": "python",
     "metadata": {},
     "outputs": [
      {
       "metadata": {},
       "output_type": "pyout",
       "prompt_number": 138,
       "text": [
        "(array([0, 1, 2, 3]), array([10, 11, 12, 13]), array([100, 110, 120, 130]))"
       ]
      }
     ],
     "prompt_number": 138
    },
    {
     "cell_type": "code",
     "collapsed": false,
     "input": [
      "(np.reshape(np.append(np.append(a,b),c),(3,4))).T"
     ],
     "language": "python",
     "metadata": {},
     "outputs": [
      {
       "metadata": {},
       "output_type": "pyout",
       "prompt_number": 154,
       "text": [
        "array([[  0,  10, 100],\n",
        "       [  1,  11, 110],\n",
        "       [  2,  12, 120],\n",
        "       [  3,  13, 130]])"
       ]
      }
     ],
     "prompt_number": 154
    },
    {
     "cell_type": "markdown",
     "metadata": {},
     "source": [
      "define a function that takes an array as input, and returns the [logistic function](http://en.wikipedia.org/wiki/Logistic_function) applied to every element:\n",
      "\n",
      "\\begin{equation}\n",
      "f(x) = {1 \\over 1 + e^{-x}}\n",
      "\\end{equation}"
     ]
    },
    {
     "cell_type": "code",
     "collapsed": false,
     "input": [
      "def logistic(sequence):\n",
      "    f = 1/(1+np.exp(-sequence))\n",
      "    return f"
     ],
     "language": "python",
     "metadata": {},
     "outputs": [],
     "prompt_number": 160
    },
    {
     "cell_type": "code",
     "collapsed": false,
     "input": [
      "# verify that your function behaves correctly by running this cell\n",
      "import matplotlib.pyplot as plt\n",
      "%matplotlib inline\n",
      "\n",
      "domain = np.linspace(-6, 6, 100)\n",
      "plt.plot(domain, logistic(domain))\n",
      "plt.show()"
     ],
     "language": "python",
     "metadata": {},
     "outputs": [
      {
       "metadata": {},
       "output_type": "display_data",
       "png": "[encoded data removed]",
       "text": [
        "<matplotlib.figure.Figure at 0x106038110>"
       ]
      }
     ],
     "prompt_number": 161
    },
    {
     "cell_type": "markdown",
     "metadata": {},
     "source": [
      "## More material\n",
      "* [100 numpy exercises](http://www.loria.fr/~rougier/teaching/numpy.100/)\n",
      "* [Performance Tips](http://wiki.scipy.org/PerformanceTips)\n",
      "* [Numpy C-API](http://docs.scipy.org/doc/numpy-dev/reference/c-api.html) if you absolutely need performance"
     ]
    }
   ],
   "metadata": {}
  }
 ]
}