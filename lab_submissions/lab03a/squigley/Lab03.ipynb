{
 "metadata": {
  "name": "",
  "signature": "sha256:395e5a180e3d6de9f126b702ff0d0030ba8b4a52fde00e3e5432c9e2f31136fd"
 },
 "nbformat": 3,
 "nbformat_minor": 0,
 "worksheets": [
  {
   "cells": [
    {
     "cell_type": "code",
     "collapsed": false,
     "input": [
      "from numpy import *\n"
     ],
     "language": "python",
     "metadata": {},
     "outputs": [],
     "prompt_number": 1
    }
   ],
   "metadata": {}
  }
 ]
}