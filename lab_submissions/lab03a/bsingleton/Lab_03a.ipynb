{
 "metadata": {
  "name": "",
  "signature": "sha256:95463d15c33a9b7af418080389e9b3834cc2ae06ca67f76cf89ec952970f2641"
 },
 "nbformat": 3,
 "nbformat_minor": 0,
 "worksheets": [
  {
   "cells": [
    {
     "cell_type": "markdown",
     "metadata": {},
     "source": [
      "# Lab 03a - Numpy"
     ]
    },
    {
     "cell_type": "markdown",
     "metadata": {},
     "source": [
      "Fill in the following and submit as a pull request as usual."
     ]
    },
    {
     "cell_type": "code",
     "collapsed": false,
     "input": [
      "import numpy as np"
     ],
     "language": "python",
     "metadata": {},
     "outputs": [],
     "prompt_number": 1
    },
    {
     "cell_type": "markdown",
     "metadata": {},
     "source": [
      "### Basic operations"
     ]
    },
    {
     "cell_type": "code",
     "collapsed": false,
     "input": [
      "a = np.random.randint(1, 1000, (3, 4))\n",
      "a"
     ],
     "language": "python",
     "metadata": {},
     "outputs": [
      {
       "metadata": {},
       "output_type": "pyout",
       "prompt_number": 18,
       "text": [
        "array([[859, 272, 381, 426],\n",
        "       [397, 946, 495,  63],\n",
        "       [192, 825, 898, 421]])"
       ]
      }
     ],
     "prompt_number": 18
    },
    {
     "cell_type": "markdown",
     "metadata": {},
     "source": [
      "describe what the following methods of the array, `a`, do:\n",
      "\n",
      "* shape - (3, 4) --> (# of rows,# of columns)\n",
      "* dtype - 'int64' --> the datatype of the array\n",
      "* flatten - array([548, 863, 446, 313, 864, 245, 176, 481, 702, 647, 818, 244]) --> turns all the data into a single list (i.e. many rows to one row)\n",
      "* max/min - 864 --> the maximum value in the array\n",
      "* argmax/argmin --> finds the index of the max/min value in the array\n",
      "* argsort --> returns the indices that would sort an array\n",
      "* T --> transposes the data, i.e. rows become columns\n",
      "* copy --> a copy of the array which doesn't change if we change the initial array\n",
      "* diagonal --> returns the diagonals"
     ]
    },
    {
     "cell_type": "code",
     "collapsed": false,
     "input": [
      "# play with a here\n",
      "\n",
      "a.diagonal()"
     ],
     "language": "python",
     "metadata": {},
     "outputs": [
      {
       "metadata": {},
       "output_type": "pyout",
       "prompt_number": 40,
       "text": [
        "array([859, 946, 898])"
       ]
      }
     ],
     "prompt_number": 40
    },
    {
     "cell_type": "markdown",
     "metadata": {},
     "source": [
      "find the sum of each row of a"
     ]
    },
    {
     "cell_type": "code",
     "collapsed": false,
     "input": [
      "sum(a.T)"
     ],
     "language": "python",
     "metadata": {},
     "outputs": [
      {
       "metadata": {},
       "output_type": "pyout",
       "prompt_number": 55,
       "text": [
        "array([1938, 1901, 2336])"
       ]
      }
     ],
     "prompt_number": 55
    },
    {
     "cell_type": "markdown",
     "metadata": {},
     "source": [
      "Compare the running times of these operations"
     ]
    },
    {
     "cell_type": "code",
     "collapsed": false,
     "input": [
      "a = [np.random.random() for _ in xrange(1000)]  # this pattern is called a list comprehension\n",
      "%timeit max(a)  # python builtin"
     ],
     "language": "python",
     "metadata": {},
     "outputs": [
      {
       "output_type": "stream",
       "stream": "stdout",
       "text": [
        "10000 loops, best of 3: 21.7 \u00b5s per loop\n"
       ]
      }
     ],
     "prompt_number": 56
    },
    {
     "cell_type": "code",
     "collapsed": false,
     "input": [
      "b = np.array(a)\n",
      "%timeit b.max()  # numpy array method"
     ],
     "language": "python",
     "metadata": {},
     "outputs": [
      {
       "output_type": "stream",
       "stream": "stdout",
       "text": [
        "100000 loops, best of 3: 3.54 \u00b5s per loop\n"
       ]
      }
     ],
     "prompt_number": 57
    },
    {
     "cell_type": "code",
     "collapsed": false,
     "input": [
      "%%timeit\n",
      "a = []\n",
      "for i in xrange(1000):\n",
      "    a.append(i)\n",
      "    # append i to the list a\n",
      "    "
     ],
     "language": "python",
     "metadata": {},
     "outputs": [
      {
       "output_type": "stream",
       "stream": "stdout",
       "text": [
        "10000 loops, best of 3: 77.5 \u00b5s per loop\n"
       ]
      }
     ],
     "prompt_number": 59
    },
    {
     "cell_type": "code",
     "collapsed": false,
     "input": [
      "%%timeit\n",
      "b = np.array([])\n",
      "for i in xrange(1000):\n",
      "    np.append(b,i)\n",
      "    # append i to the numpy array b\n",
      "    "
     ],
     "language": "python",
     "metadata": {},
     "outputs": [
      {
       "output_type": "stream",
       "stream": "stdout",
       "text": [
        "100 loops, best of 3: 4.3 ms per loop\n"
       ]
      }
     ],
     "prompt_number": 83
    },
    {
     "cell_type": "markdown",
     "metadata": {},
     "source": [
      "Return the square root (`np.sqrt(x)`) of every element in the list `a` and the array `b`, and time it."
     ]
    },
    {
     "cell_type": "code",
     "collapsed": false,
     "input": [
      "%%timeit\n",
      "a = range(1000)\n",
      "b = np.array(a)\n",
      "for i in a:\n",
      "    np.sqrt(a)\n",
      "    \n",
      "# 85.4 for python built-in\n",
      "# 4.72 for numpy"
     ],
     "language": "python",
     "metadata": {},
     "outputs": [
      {
       "output_type": "stream",
       "stream": "stdout",
       "text": [
        "10 loops, best of 3: 86.1 ms per loop\n"
       ]
      }
     ],
     "prompt_number": 85
    },
    {
     "cell_type": "code",
     "collapsed": false,
     "input": [
      "%%timeit # code here\n",
      "a = range(1000)\n",
      "b = np.array(a)\n",
      "for i in a:\n",
      "    np.sqrt(a)\n"
     ],
     "language": "python",
     "metadata": {},
     "outputs": [
      {
       "output_type": "stream",
       "stream": "stdout",
       "text": [
        "10 loops, best of 3: 85.2 ms per loop\n"
       ]
      }
     ],
     "prompt_number": 92
    },
    {
     "cell_type": "code",
     "collapsed": false,
     "input": [
      "%%timeit\n",
      "a = range(1000)\n",
      "b = np.array(a)\n",
      "for i2 in b:\n",
      "    np.sqrt(b)\n",
      "    "
     ],
     "language": "python",
     "metadata": {},
     "outputs": [
      {
       "output_type": "stream",
       "stream": "stdout",
       "text": [
        "100 loops, best of 3: 4.68 ms per loop\n"
       ]
      }
     ],
     "prompt_number": 90
    },
    {
     "cell_type": "markdown",
     "metadata": {},
     "source": [
      "What are the strengths and weaknesses of arrays vs. lists?\n",
      "\n",
      "Arrays are mucho-mas faster than lists except when appending! \n"
     ]
    },
    {
     "cell_type": "markdown",
     "metadata": {},
     "source": [
      "### Constructors"
     ]
    },
    {
     "cell_type": "markdown",
     "metadata": {},
     "source": [
      "construct the following ndarray without explicitly defining it. i.e. use constructors and broadcasting arithmetic:\n",
      "\\begin{pmatrix}\n",
      "1 & 2 & 2 \\\\\n",
      "2 & 1 & 2 \\\\\n",
      "2 & 2 & 1\n",
      "\\end{pmatrix}"
     ]
    },
    {
     "cell_type": "code",
     "collapsed": false,
     "input": [
      "a = np.array([[1,2,2],[2,1,2],[2,2,1]])\n",
      "a"
     ],
     "language": "python",
     "metadata": {},
     "outputs": [
      {
       "metadata": {},
       "output_type": "pyout",
       "prompt_number": 76,
       "text": [
        "array([[1, 2, 2],\n",
        "       [2, 1, 2],\n",
        "       [2, 2, 1]])"
       ]
      }
     ],
     "prompt_number": 76
    },
    {
     "cell_type": "markdown",
     "metadata": {},
     "source": [
      "construct the following ndarray without explicitly defining it.\n",
      "\\begin{pmatrix}\n",
      "1 & 2 & 3 & 4 \\\\\n",
      "5 & 6 & 7 & 8 \\\\\n",
      "9 & 10 & 11 & 12\n",
      "\\end{pmatrix}"
     ]
    },
    {
     "cell_type": "code",
     "collapsed": false,
     "input": [
      "b = np.arange(13)[1:].reshape((3,4))\n",
      "b"
     ],
     "language": "python",
     "metadata": {},
     "outputs": [
      {
       "metadata": {},
       "output_type": "pyout",
       "prompt_number": 127,
       "text": [
        "array([[ 1,  2,  3,  4],\n",
        "       [ 5,  6,  7,  8],\n",
        "       [ 9, 10, 11, 12]])"
       ]
      }
     ],
     "prompt_number": 127
    },
    {
     "cell_type": "markdown",
     "metadata": {},
     "source": [
      "### Data Types"
     ]
    },
    {
     "cell_type": "markdown",
     "metadata": {},
     "source": [
      "What results from operations between lists and arrays? Explain the result of the following cell:"
     ]
    },
    {
     "cell_type": "code",
     "collapsed": false,
     "input": [
      "a = range(10) + np.arange(10)\n",
      "b = range(10)\n",
      "c = np.arange(10)\n",
      "\n",
      "a,b,c\n",
      "\n",
      "# The result is a ndarray of the index numbers (i.e. b[0]+c[0],b[1]+c[1], etc.)"
     ],
     "language": "python",
     "metadata": {},
     "outputs": [
      {
       "metadata": {},
       "output_type": "pyout",
       "prompt_number": 143,
       "text": [
        "(array([ 0,  2,  4,  6,  8, 10, 12, 14, 16, 18]),\n",
        " [0, 1, 2, 3, 4, 5, 6, 7, 8, 9],\n",
        " array([0, 1, 2, 3, 4, 5, 6, 7, 8, 9]))"
       ]
      }
     ],
     "prompt_number": 143
    },
    {
     "cell_type": "markdown",
     "metadata": {},
     "source": [
      "Are certain numpy datatypes dominant over others? Trying combining arrays of the following pairs of types in a similar manner and see what results:"
     ]
    },
    {
     "cell_type": "code",
     "collapsed": false,
     "input": [
      "# np.int16, np.int64\n",
      "a = np.arange(10,dtype='int16')\n",
      "b = np.arange(10,dtype='int64')\n",
      "c = a + b\n",
      "c.dtype\n",
      "\n",
      "# the int64 dtype is dominant over int16 dtype"
     ],
     "language": "python",
     "metadata": {},
     "outputs": [
      {
       "metadata": {},
       "output_type": "pyout",
       "prompt_number": 109,
       "text": [
        "dtype('int64')"
       ]
      }
     ],
     "prompt_number": 109
    },
    {
     "cell_type": "code",
     "collapsed": false,
     "input": [
      "# np.int16, np.float64\n",
      "a = np.arange(10,dtype='int16')\n",
      "b = np.arange(10,dtype='float64')\n",
      "c = a + b\n",
      "c.dtype\n",
      "\n",
      "# the float64 dtype is dominant over int16"
     ],
     "language": "python",
     "metadata": {},
     "outputs": [
      {
       "metadata": {},
       "output_type": "pyout",
       "prompt_number": 110,
       "text": [
        "dtype('float64')"
       ]
      }
     ],
     "prompt_number": 110
    },
    {
     "cell_type": "code",
     "collapsed": false,
     "input": [
      "# np.int16, np.uint16\n",
      "a = np.arange(10,dtype='int16')\n",
      "b = np.arange(10,dtype='uint16')\n",
      "c = a + b\n",
      "c.dtype\n",
      "\n",
      "# the int32 dtype is the result! Surprising!"
     ],
     "language": "python",
     "metadata": {},
     "outputs": [
      {
       "metadata": {},
       "output_type": "pyout",
       "prompt_number": 111,
       "text": [
        "dtype('int32')"
       ]
      }
     ],
     "prompt_number": 111
    },
    {
     "cell_type": "markdown",
     "metadata": {},
     "source": [
      "Explain what happens with the following statements:"
     ]
    },
    {
     "cell_type": "code",
     "collapsed": false,
     "input": [
      "np.array([1, 4, 3.0, 6])\n",
      "\n",
      "# The ndarray takes the float dtype even if just one item in the list is a float"
     ],
     "language": "python",
     "metadata": {},
     "outputs": [
      {
       "metadata": {},
       "output_type": "pyout",
       "prompt_number": 112,
       "text": [
        "array([ 1.,  4.,  3.,  6.])"
       ]
      }
     ],
     "prompt_number": 112
    },
    {
     "cell_type": "code",
     "collapsed": false,
     "input": [
      "np.array([1, 'a', 3, 7])\n",
      "\n",
      "# the ndarray takes the string dtype since 'a' is a string"
     ],
     "language": "python",
     "metadata": {},
     "outputs": [
      {
       "metadata": {},
       "output_type": "pyout",
       "prompt_number": 113,
       "text": [
        "array(['1', 'a', '3', '7'], \n",
        "      dtype='|S1')"
       ]
      }
     ],
     "prompt_number": 113
    },
    {
     "cell_type": "code",
     "collapsed": false,
     "input": [
      "np.array(set([1, 4, 4, 5]))\n",
      "\n",
      "# the ndarray takes the object datatype since the only thing in the array is a set"
     ],
     "language": "python",
     "metadata": {},
     "outputs": [
      {
       "metadata": {},
       "output_type": "pyout",
       "prompt_number": 114,
       "text": [
        "array(set([1, 4, 5]), dtype=object)"
       ]
      }
     ],
     "prompt_number": 114
    },
    {
     "cell_type": "markdown",
     "metadata": {},
     "source": [
      "### Functions"
     ]
    },
    {
     "cell_type": "markdown",
     "metadata": {},
     "source": [
      "Use one of numpy's [builtin functions](http://docs.scipy.org/doc/numpy-1.8.1/reference/routines.math.html) to find the first 100 [triangular numbers](http://en.wikipedia.org/wiki/Triangular_number)"
     ]
    },
    {
     "cell_type": "code",
     "collapsed": false,
     "input": [
      "# this can be a one-liner\n",
      "\n",
      "a = []\n",
      "\n",
      "for n in np.arange(1,101):\n",
      "    a.append(n*(n+1)/2)\n",
      "\n",
      "b = np.array(a)\n",
      "b"
     ],
     "language": "python",
     "metadata": {},
     "outputs": [
      {
       "metadata": {},
       "output_type": "pyout",
       "prompt_number": 142,
       "text": [
        "array([   1,    3,    6,   10,   15,   21,   28,   36,   45,   55,   66,\n",
        "         78,   91,  105,  120,  136,  153,  171,  190,  210,  231,  253,\n",
        "        276,  300,  325,  351,  378,  406,  435,  465,  496,  528,  561,\n",
        "        595,  630,  666,  703,  741,  780,  820,  861,  903,  946,  990,\n",
        "       1035, 1081, 1128, 1176, 1225, 1275, 1326, 1378, 1431, 1485, 1540,\n",
        "       1596, 1653, 1711, 1770, 1830, 1891, 1953, 2016, 2080, 2145, 2211,\n",
        "       2278, 2346, 2415, 2485, 2556, 2628, 2701, 2775, 2850, 2926, 3003,\n",
        "       3081, 3160, 3240, 3321, 3403, 3486, 3570, 3655, 3741, 3828, 3916,\n",
        "       4005, 4095, 4186, 4278, 4371, 4465, 4560, 4656, 4753, 4851, 4950,\n",
        "       5050])"
       ]
      }
     ],
     "prompt_number": 142
    },
    {
     "cell_type": "markdown",
     "metadata": {},
     "source": [
      "compute the matrix product of these two arrays (not element-wise)\n",
      "\n",
      "\\begin{equation} \\begin{pmatrix}\n",
      "3 & 4 & 5 \\\\\n",
      "5 & 4 & 3 \\\\\n",
      "1 & 2 & 3\n",
      "\\end{pmatrix}\n",
      "\\begin{pmatrix}\n",
      "10 \\\\\n",
      "20 \\\\\n",
      "30\n",
      "\\end{pmatrix}\\end{equation}"
     ]
    },
    {
     "cell_type": "code",
     "collapsed": false,
     "input": [
      "a = np.array([[3, 4, 5], [5, 4, 3], [1, 2, 3]])\n",
      "b = np.array([10, 20, 30])\n",
      "a, b"
     ],
     "language": "python",
     "metadata": {},
     "outputs": [
      {
       "metadata": {},
       "output_type": "pyout",
       "prompt_number": 144,
       "text": [
        "(array([[3, 4, 5],\n",
        "        [5, 4, 3],\n",
        "        [1, 2, 3]]), array([10, 20, 30]))"
       ]
      }
     ],
     "prompt_number": 144
    },
    {
     "cell_type": "code",
     "collapsed": false,
     "input": [
      "# matrix multiplication. You should get a vector as your output.\n",
      "c = a*b\n",
      "c"
     ],
     "language": "python",
     "metadata": {},
     "outputs": [
      {
       "metadata": {},
       "output_type": "pyout",
       "prompt_number": 146,
       "text": [
        "array([[ 30,  80, 150],\n",
        "       [ 50,  80,  90],\n",
        "       [ 10,  40,  90]])"
       ]
      }
     ],
     "prompt_number": 146
    },
    {
     "cell_type": "markdown",
     "metadata": {},
     "source": [
      "combine these vectors into a matrix\n",
      "\\begin{pmatrix}\n",
      "0 & 10 & 100 \\\\\n",
      "1 & 11 & 110 \\\\\n",
      "2 & 12 & 120 \\\\\n",
      "3 & 13 & 130\n",
      "\\end{pmatrix}"
     ]
    },
    {
     "cell_type": "code",
     "collapsed": false,
     "input": [
      "a, b, c = np.arange(4), np.arange(10, 14), np.arange(100, 140, 10)\n",
      "a, b, c\n",
      "\n",
      "d = np.array([a,b,c])\n",
      "d.T"
     ],
     "language": "python",
     "metadata": {},
     "outputs": [
      {
       "metadata": {},
       "output_type": "pyout",
       "prompt_number": 153,
       "text": [
        "array([[  0,  10, 100],\n",
        "       [  1,  11, 110],\n",
        "       [  2,  12, 120],\n",
        "       [  3,  13, 130]])"
       ]
      }
     ],
     "prompt_number": 153
    },
    {
     "cell_type": "code",
     "collapsed": false,
     "input": [],
     "language": "python",
     "metadata": {},
     "outputs": []
    },
    {
     "cell_type": "markdown",
     "metadata": {},
     "source": [
      "define a function that takes an array as input, and returns the [logistic function](http://en.wikipedia.org/wiki/Logistic_function) applied to every element:\n",
      "\n",
      "\\begin{equation}\n",
      "f(x) = {1 \\over 1 + e^{-x}}\n",
      "\\end{equation}"
     ]
    },
    {
     "cell_type": "code",
     "collapsed": false,
     "input": [
      "import math\n",
      "\n",
      "def logistic(sequence):\n",
      "    a = []\n",
      "    for i in sequence:\n",
      "        a.append(1.0/(1.0 + np.exp(-i)))\n",
      "        \n",
      "    # calculate the logistic function here\n",
      "    return np.array(a)\n",
      "\n",
      "logistic(np.arange(10, dtype=np.float16))\n",
      "\n",
      "# look into array broadcasting"
     ],
     "language": "python",
     "metadata": {},
     "outputs": [
      {
       "metadata": {},
       "output_type": "pyout",
       "prompt_number": 185,
       "text": [
        "array([ 0.5       ,  0.73103694,  0.88076551,  0.95258583,  0.9820187 ,\n",
        "        0.99330832,  0.99752658,  0.99908912,  0.99966466,  0.99987663])"
       ]
      }
     ],
     "prompt_number": 185
    },
    {
     "cell_type": "code",
     "collapsed": false,
     "input": [
      "# verify that your function behaves correctly by running this cell\n",
      "import matplotlib.pyplot as plt\n",
      "%matplotlib inline\n",
      "\n",
      "domain = np.linspace(-6, 6, 100)\n",
      "plt.plot(domain, logistic(domain))\n",
      "plt.show()"
     ],
     "language": "python",
     "metadata": {},
     "outputs": [
      {
       "metadata": {},
       "output_type": "display_data",
       "png": "[encoded data removed]",
       "text": [
        "<matplotlib.figure.Figure at 0x10776add0>"
       ]
      }
     ],
     "prompt_number": 188
    },
    {
     "cell_type": "markdown",
     "metadata": {},
     "source": [
      "## More material\n",
      "* [100 numpy exercises](http://www.loria.fr/~rougier/teaching/numpy.100/)\n",
      "* [Performance Tips](http://wiki.scipy.org/PerformanceTips)\n",
      "* [Numpy C-API](http://docs.scipy.org/doc/numpy-dev/reference/c-api.html) if you absolutely need performance"
     ]
    }
   ],
   "metadata": {}
  }
 ]
}