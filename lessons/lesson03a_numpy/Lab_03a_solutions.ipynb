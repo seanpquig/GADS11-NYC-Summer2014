{
 "metadata": {
  "name": "",
  "signature": "sha256:17997fae23de6ebfa61fe420ce137e564b76d7aadeb4afdbf73d46c25473ed0a"
 },
 "nbformat": 3,
 "nbformat_minor": 0,
 "worksheets": [
  {
   "cells": [
    {
     "cell_type": "markdown",
     "metadata": {},
     "source": [
      "# Lab 03a - Numpy"
     ]
    },
    {
     "cell_type": "markdown",
     "metadata": {},
     "source": [
      "Fill in the following and submit as a pull request as usual."
     ]
    },
    {
     "cell_type": "code",
     "collapsed": false,
     "input": [
      "import numpy as np"
     ],
     "language": "python",
     "metadata": {},
     "outputs": [],
     "prompt_number": 1
    },
    {
     "cell_type": "markdown",
     "metadata": {},
     "source": [
      "### Basic operations"
     ]
    },
    {
     "cell_type": "code",
     "collapsed": false,
     "input": [
      "a = np.random.randint(1, 1000, (3, 4))\n",
      "a"
     ],
     "language": "python",
     "metadata": {},
     "outputs": [
      {
       "metadata": {},
       "output_type": "pyout",
       "prompt_number": 2,
       "text": [
        "array([[292, 517, 565, 331],\n",
        "       [899, 536, 915, 760],\n",
        "       [604, 979, 615, 431]])"
       ]
      }
     ],
     "prompt_number": 2
    },
    {
     "cell_type": "markdown",
     "metadata": {},
     "source": [
      "describe what the following methods of the array, `a`, do:\n",
      "\n",
      "* shape - return the length in each dimension\n",
      "* dtype - return the datatype\n",
      "* flatten - return a 1D serialization of the array\n",
      "* max/min - return the largest/smallest element\n",
      "* argmax/argmin - return the index of the largest/smallest element\n",
      "* argsort - return the indices of sorted elements (e.g. if the array is `[2, 4, 1]`, returns `[2, 0, 1]` since `[a[2], a[0], a[1]]` would be sorted)\n",
      "* T - transpose an array\n",
      "* copy - return a deep copy of an array\n",
      "* diagonal - return the elements on the array diagonal"
     ]
    },
    {
     "cell_type": "code",
     "collapsed": false,
     "input": [
      "# play with a here\n",
      "\n",
      "a."
     ],
     "language": "python",
     "metadata": {},
     "outputs": [
      {
       "ename": "SyntaxError",
       "evalue": "invalid syntax (<ipython-input-3-10fce8285527>, line 3)",
       "output_type": "pyerr",
       "traceback": [
        "\u001b[0;36m  File \u001b[0;32m\"<ipython-input-3-10fce8285527>\"\u001b[0;36m, line \u001b[0;32m3\u001b[0m\n\u001b[0;31m    a.\u001b[0m\n\u001b[0m      ^\u001b[0m\n\u001b[0;31mSyntaxError\u001b[0m\u001b[0;31m:\u001b[0m invalid syntax\n"
       ]
      }
     ],
     "prompt_number": 3
    },
    {
     "cell_type": "markdown",
     "metadata": {},
     "source": [
      "find the sum of each row of a"
     ]
    },
    {
     "cell_type": "code",
     "collapsed": false,
     "input": [
      "a.sum(axis=1)"
     ],
     "language": "python",
     "metadata": {},
     "outputs": [
      {
       "metadata": {},
       "output_type": "pyout",
       "prompt_number": 4,
       "text": [
        "array([1705, 3110, 2629])"
       ]
      }
     ],
     "prompt_number": 4
    },
    {
     "cell_type": "markdown",
     "metadata": {},
     "source": [
      "Compare the running times of these operations"
     ]
    },
    {
     "cell_type": "code",
     "collapsed": false,
     "input": [
      "a = [np.random.random() for _ in xrange(1000)]  # this pattern is called a list comprehension\n",
      "%timeit max(a)  # python builtin"
     ],
     "language": "python",
     "metadata": {},
     "outputs": [
      {
       "output_type": "stream",
       "stream": "stdout",
       "text": [
        "100000 loops, best of 3: 19.2 \u00b5s per loop\n"
       ]
      }
     ],
     "prompt_number": 5
    },
    {
     "cell_type": "code",
     "collapsed": false,
     "input": [
      "b = np.array(a)\n",
      "%timeit b.max()  # numpy array method"
     ],
     "language": "python",
     "metadata": {},
     "outputs": [
      {
       "output_type": "stream",
       "stream": "stdout",
       "text": [
        "100000 loops, best of 3: 3.02 \u00b5s per loop\n"
       ]
      }
     ],
     "prompt_number": 6
    },
    {
     "cell_type": "code",
     "collapsed": false,
     "input": [
      "%%timeit\n",
      "a = []\n",
      "for i in xrange(1000):\n",
      "    # append i to the list a\n",
      "    a.append(a)"
     ],
     "language": "python",
     "metadata": {},
     "outputs": [
      {
       "output_type": "stream",
       "stream": "stdout",
       "text": [
        "10000 loops, best of 3: 86.1 \u00b5s per loop\n"
       ]
      }
     ],
     "prompt_number": 7
    },
    {
     "cell_type": "code",
     "collapsed": false,
     "input": [
      "%%timeit\n",
      "b = np.array([])\n",
      "for i in xrange(1000):\n",
      "    # append i to the numpy array b\n",
      "    np.append(b, [i])"
     ],
     "language": "python",
     "metadata": {},
     "outputs": [
      {
       "output_type": "stream",
       "stream": "stdout",
       "text": [
        "100 loops, best of 3: 4.9 ms per loop\n"
       ]
      }
     ],
     "prompt_number": 8
    },
    {
     "cell_type": "markdown",
     "metadata": {},
     "source": [
      "Return the square root (`np.sqrt(x)`) of every element in the list `a` and the array `b`, and time it."
     ]
    },
    {
     "cell_type": "code",
     "collapsed": false,
     "input": [
      "a = range(1000)\n",
      "b = np.array(a)"
     ],
     "language": "python",
     "metadata": {},
     "outputs": [],
     "prompt_number": 9
    },
    {
     "cell_type": "code",
     "collapsed": false,
     "input": [
      "# find the time to take the sqrt of every element of a\n",
      "\n",
      "%timeit map(np.sqrt, a)"
     ],
     "language": "python",
     "metadata": {},
     "outputs": [
      {
       "output_type": "stream",
       "stream": "stdout",
       "text": [
        "1000 loops, best of 3: 1.05 ms per loop\n"
       ]
      }
     ],
     "prompt_number": 10
    },
    {
     "cell_type": "code",
     "collapsed": false,
     "input": [
      "# find the time to take the sqrt of every element of b (hint: take advantage of array broadcasting)\n",
      "\n",
      "%timeit np.sqrt(b)"
     ],
     "language": "python",
     "metadata": {},
     "outputs": [
      {
       "output_type": "stream",
       "stream": "stdout",
       "text": [
        "100000 loops, best of 3: 4.38 \u00b5s per loop\n"
       ]
      }
     ],
     "prompt_number": 11
    },
    {
     "cell_type": "markdown",
     "metadata": {},
     "source": [
      "What are the strengths and weaknesses of arrays vs. lists?\n",
      "\n",
      "Arrays gain performance advantages by having a fixed size and elements of uniform type. These are great when you know how much data you have and the type they are, and you want to perform mathematical operations. Lists are great for handling mixed or complex data types, or when you want to gather an unknown amount of data into one structure."
     ]
    },
    {
     "cell_type": "markdown",
     "metadata": {},
     "source": [
      "### Constructors"
     ]
    },
    {
     "cell_type": "markdown",
     "metadata": {},
     "source": [
      "construct the following ndarray without explicitly defining it. i.e. use constructors and broadcasting arithmetic:\n",
      "\\begin{pmatrix}\n",
      "1 & 2 & 2 \\\\\n",
      "2 & 1 & 2 \\\\\n",
      "2 & 2 & 1\n",
      "\\end{pmatrix}"
     ]
    },
    {
     "cell_type": "code",
     "collapsed": false,
     "input": [
      "np.ones((3, 3), dtype=np.int8) * 2 - np.eye(3, dtype=np.int8)  # this is just one solution."
     ],
     "language": "python",
     "metadata": {},
     "outputs": [
      {
       "metadata": {},
       "output_type": "pyout",
       "prompt_number": 12,
       "text": [
        "array([[1, 2, 2],\n",
        "       [2, 1, 2],\n",
        "       [2, 2, 1]], dtype=int8)"
       ]
      }
     ],
     "prompt_number": 12
    },
    {
     "cell_type": "markdown",
     "metadata": {},
     "source": [
      "construct the following ndarray without explicitly defining it.\n",
      "\\begin{pmatrix}\n",
      "1 & 2 & 3 & 4 \\\\\n",
      "5 & 6 & 7 & 8 \\\\\n",
      "9 & 10 & 11 & 12\n",
      "\\end{pmatrix}"
     ]
    },
    {
     "cell_type": "code",
     "collapsed": false,
     "input": [
      "np.reshape(np.arange(1, 13), (3, 4))"
     ],
     "language": "python",
     "metadata": {},
     "outputs": [
      {
       "metadata": {},
       "output_type": "pyout",
       "prompt_number": 13,
       "text": [
        "array([[ 1,  2,  3,  4],\n",
        "       [ 5,  6,  7,  8],\n",
        "       [ 9, 10, 11, 12]])"
       ]
      }
     ],
     "prompt_number": 13
    },
    {
     "cell_type": "markdown",
     "metadata": {},
     "source": [
      "### Data Types"
     ]
    },
    {
     "cell_type": "markdown",
     "metadata": {},
     "source": [
      "What results from operations between lists and arrays? Explain the result of the following cell:"
     ]
    },
    {
     "cell_type": "code",
     "collapsed": false,
     "input": [
      "range(10) + np.arange(10)   # python chooses to coerce the list into an array, then the two are added element-wise"
     ],
     "language": "python",
     "metadata": {},
     "outputs": [
      {
       "metadata": {},
       "output_type": "pyout",
       "prompt_number": 14,
       "text": [
        "array([ 0,  2,  4,  6,  8, 10, 12, 14, 16, 18])"
       ]
      }
     ],
     "prompt_number": 14
    },
    {
     "cell_type": "markdown",
     "metadata": {},
     "source": [
      "Are certain numpy datatypes dominant over others? Trying combining arrays of the following pairs of types in a similar manner and see what results:"
     ]
    },
    {
     "cell_type": "code",
     "collapsed": false,
     "input": [
      "# np.int16, np.int64\n",
      "(np.arange(10, dtype=np.int16) + np.arange(10, dtype=np.int64)).dtype\n",
      "# int64 can hold all possible int16 values"
     ],
     "language": "python",
     "metadata": {},
     "outputs": [
      {
       "metadata": {},
       "output_type": "pyout",
       "prompt_number": 15,
       "text": [
        "dtype('int64')"
       ]
      }
     ],
     "prompt_number": 15
    },
    {
     "cell_type": "code",
     "collapsed": false,
     "input": [
      "# np.int16, np.float64\n",
      "(np.arange(10, dtype=np.int16) + np.arange(10, dtype=np.float64)).dtype\n",
      "# float64 can hold all possible int16 values (though with a loss of precision)"
     ],
     "language": "python",
     "metadata": {},
     "outputs": [
      {
       "metadata": {},
       "output_type": "pyout",
       "prompt_number": 16,
       "text": [
        "dtype('float64')"
       ]
      }
     ],
     "prompt_number": 16
    },
    {
     "cell_type": "code",
     "collapsed": false,
     "input": [
      "# np.int16, np.uint16\n",
      "(np.arange(10, dtype=np.int16) + np.arange(10, dtype=np.uint16)).dtype\n",
      "# uint goes twice as high on the positive side than int (it gets an extra bit by not storing the sign)\n",
      "# so int32 is required to store those possible values"
     ],
     "language": "python",
     "metadata": {},
     "outputs": [
      {
       "metadata": {},
       "output_type": "pyout",
       "prompt_number": 17,
       "text": [
        "dtype('int32')"
       ]
      }
     ],
     "prompt_number": 17
    },
    {
     "cell_type": "markdown",
     "metadata": {},
     "source": [
      "Explain what happens with the following statements:"
     ]
    },
    {
     "cell_type": "code",
     "collapsed": false,
     "input": [
      "np.array([1, 4, 3.0, 6])   # the values are coerced into the most general type"
     ],
     "language": "python",
     "metadata": {},
     "outputs": [
      {
       "metadata": {},
       "output_type": "pyout",
       "prompt_number": 18,
       "text": [
        "array([ 1.,  4.,  3.,  6.])"
       ]
      }
     ],
     "prompt_number": 18
    },
    {
     "cell_type": "code",
     "collapsed": false,
     "input": [
      "np.array([1, 'a', 3, 7])   # 'a' can't be coerced to an integer, but integers can be coerced into strings"
     ],
     "language": "python",
     "metadata": {},
     "outputs": [
      {
       "metadata": {},
       "output_type": "pyout",
       "prompt_number": 19,
       "text": [
        "array(['1', 'a', '3', '7'], \n",
        "      dtype='|S1')"
       ]
      }
     ],
     "prompt_number": 19
    },
    {
     "cell_type": "code",
     "collapsed": false,
     "input": [
      "np.array(set([1, 4, 4, 5]))   # sets don't have an ordering of their elements, so there's no logical mapping into an array"
     ],
     "language": "python",
     "metadata": {},
     "outputs": [
      {
       "metadata": {},
       "output_type": "pyout",
       "prompt_number": 20,
       "text": [
        "array(set([1, 4, 5]), dtype=object)"
       ]
      }
     ],
     "prompt_number": 20
    },
    {
     "cell_type": "markdown",
     "metadata": {},
     "source": [
      "### Functions"
     ]
    },
    {
     "cell_type": "markdown",
     "metadata": {},
     "source": [
      "Use one of numpy's [builtin functions](http://docs.scipy.org/doc/numpy-1.8.1/reference/routines.math.html) to find the first 100 [triangular numbers](http://en.wikipedia.org/wiki/Triangular_number)"
     ]
    },
    {
     "cell_type": "code",
     "collapsed": false,
     "input": [
      "# this can be a one-liner\n",
      "np.cumsum(np.arange(100))"
     ],
     "language": "python",
     "metadata": {},
     "outputs": [
      {
       "metadata": {},
       "output_type": "pyout",
       "prompt_number": 21,
       "text": [
        "array([   0,    1,    3,    6,   10,   15,   21,   28,   36,   45,   55,\n",
        "         66,   78,   91,  105,  120,  136,  153,  171,  190,  210,  231,\n",
        "        253,  276,  300,  325,  351,  378,  406,  435,  465,  496,  528,\n",
        "        561,  595,  630,  666,  703,  741,  780,  820,  861,  903,  946,\n",
        "        990, 1035, 1081, 1128, 1176, 1225, 1275, 1326, 1378, 1431, 1485,\n",
        "       1540, 1596, 1653, 1711, 1770, 1830, 1891, 1953, 2016, 2080, 2145,\n",
        "       2211, 2278, 2346, 2415, 2485, 2556, 2628, 2701, 2775, 2850, 2926,\n",
        "       3003, 3081, 3160, 3240, 3321, 3403, 3486, 3570, 3655, 3741, 3828,\n",
        "       3916, 4005, 4095, 4186, 4278, 4371, 4465, 4560, 4656, 4753, 4851,\n",
        "       4950])"
       ]
      }
     ],
     "prompt_number": 21
    },
    {
     "cell_type": "markdown",
     "metadata": {},
     "source": [
      "compute the matrix product of these two arrays (not element-wise)\n",
      "\n",
      "\\begin{equation} \\begin{pmatrix}\n",
      "3 & 4 & 5 \\\\\n",
      "5 & 4 & 3 \\\\\n",
      "1 & 2 & 3\n",
      "\\end{pmatrix}\n",
      "\\begin{pmatrix}\n",
      "10 \\\\\n",
      "20 \\\\\n",
      "30\n",
      "\\end{pmatrix}\\end{equation}"
     ]
    },
    {
     "cell_type": "code",
     "collapsed": false,
     "input": [
      "a = np.array([[3, 4, 5], [5, 4, 3], [1, 2, 3]])\n",
      "b = np.array([10, 20, 30])\n",
      "a, b"
     ],
     "language": "python",
     "metadata": {},
     "outputs": [
      {
       "metadata": {},
       "output_type": "pyout",
       "prompt_number": 22,
       "text": [
        "(array([[3, 4, 5],\n",
        "        [5, 4, 3],\n",
        "        [1, 2, 3]]), array([10, 20, 30]))"
       ]
      }
     ],
     "prompt_number": 22
    },
    {
     "cell_type": "code",
     "collapsed": false,
     "input": [
      "# matrix multiplication. You should get a vector as your output.\n",
      "np.dot(a, b)"
     ],
     "language": "python",
     "metadata": {},
     "outputs": [
      {
       "metadata": {},
       "output_type": "pyout",
       "prompt_number": 23,
       "text": [
        "array([260, 220, 140])"
       ]
      }
     ],
     "prompt_number": 23
    },
    {
     "cell_type": "markdown",
     "metadata": {},
     "source": [
      "combine these vectors into a matrix\n",
      "\\begin{pmatrix}\n",
      "0 & 10 & 100 \\\\\n",
      "1 & 11 & 110 \\\\\n",
      "2 & 12 & 120 \\\\\n",
      "3 & 13 & 130\n",
      "\\end{pmatrix}"
     ]
    },
    {
     "cell_type": "code",
     "collapsed": false,
     "input": [
      "a, b, c = np.arange(4), np.arange(10, 14), np.arange(100, 140, 10)\n",
      "a, b, c"
     ],
     "language": "python",
     "metadata": {},
     "outputs": [
      {
       "metadata": {},
       "output_type": "pyout",
       "prompt_number": 24,
       "text": [
        "(array([0, 1, 2, 3]), array([10, 11, 12, 13]), array([100, 110, 120, 130]))"
       ]
      }
     ],
     "prompt_number": 24
    },
    {
     "cell_type": "code",
     "collapsed": false,
     "input": [
      "np.vstack((a, b, c)).T"
     ],
     "language": "python",
     "metadata": {},
     "outputs": [
      {
       "metadata": {},
       "output_type": "pyout",
       "prompt_number": 25,
       "text": [
        "array([[  0,  10, 100],\n",
        "       [  1,  11, 110],\n",
        "       [  2,  12, 120],\n",
        "       [  3,  13, 130]])"
       ]
      }
     ],
     "prompt_number": 25
    },
    {
     "cell_type": "markdown",
     "metadata": {},
     "source": [
      "define a function that takes an array as input, and returns the [logistic function](http://en.wikipedia.org/wiki/Logistic_function) applied to every element:\n",
      "\n",
      "\\begin{equation}\n",
      "f(x) = {1 \\over 1 + e^{-x}}\n",
      "\\end{equation}"
     ]
    },
    {
     "cell_type": "code",
     "collapsed": false,
     "input": [
      "def logistic(sequence):\n",
      "    # calculate the logistic function here\n",
      "    return 1 / (1 + np.exp(-sequence))"
     ],
     "language": "python",
     "metadata": {},
     "outputs": [],
     "prompt_number": 26
    },
    {
     "cell_type": "code",
     "collapsed": false,
     "input": [
      "# verify that your function behaves correctly here\n",
      "import matplotlib.pyplot as plt\n",
      "%matplotlib inline\n",
      "\n",
      "domain = np.linspace(-6, 6, 100)\n",
      "plt.plot(domain, logistic(domain))\n",
      "plt.show()"
     ],
     "language": "python",
     "metadata": {},
     "outputs": [
      {
       "metadata": {},
       "output_type": "display_data",
       "png": "[encoded data removed]",
       "text": [
        "<matplotlib.figure.Figure at 0x10649aed0>"
       ]
      }
     ],
     "prompt_number": 27
    },
    {
     "cell_type": "markdown",
     "metadata": {},
     "source": [
      "## More material\n",
      "* [100 numpy exercises](http://www.loria.fr/~rougier/teaching/numpy.100/)\n",
      "* [Performance Tips](http://wiki.scipy.org/PerformanceTips)\n",
      "* [Numpy C-API](http://docs.scipy.org/doc/numpy-dev/reference/c-api.html) if you absolutely need performance"
     ]
    }
   ],
   "metadata": {}
  }
 ]
}