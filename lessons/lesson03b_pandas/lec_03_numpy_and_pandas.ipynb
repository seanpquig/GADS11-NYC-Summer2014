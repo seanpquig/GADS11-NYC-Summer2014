{
 "metadata": {
  "name": "",
  "signature": "sha256:19cd412bfba3bce870a0975d962fd1910931fcc2c7678aa4804a48ef3f557eaf"
 },
 "nbformat": 3,
 "nbformat_minor": 0,
 "worksheets": [
  {
   "cells": [
    {
     "cell_type": "markdown",
     "metadata": {
      "slideshow": {
       "slide_type": "slide"
      }
     },
     "source": [
      "## Agenda\n",
      "* Numpy\n",
      "* Pandas\n",
      "* Lab\n"
     ]
    },
    {
     "cell_type": "markdown",
     "metadata": {
      "slideshow": {
       "slide_type": "subslide"
      }
     },
     "source": [
      "## Introduction\n"
     ]
    },
    {
     "cell_type": "markdown",
     "metadata": {
      "slideshow": {
       "slide_type": "subslide"
      }
     },
     "source": [
      "![](http://note.io/1lKHupx)"
     ]
    },
    {
     "cell_type": "markdown",
     "metadata": {
      "slideshow": {
       "slide_type": "slide"
      }
     },
     "source": [
      "# Create a new notebook for your code-along:\n",
      "\n",
      "If necessary, from our lab03 submission directory type\n",
      "    \n",
      "    ipython notebook\n",
      "\n",
      "from the IPython Dashboard open a new notebook.  Change the title to \"Numpy and Pandas\""
     ]
    },
    {
     "cell_type": "markdown",
     "metadata": {
      "slideshow": {
       "slide_type": "slide"
      }
     },
     "source": [
      "## Introduction to Numpy\n",
      "\n",
      "* Overview\n",
      "* ndarray\n",
      "* Indexing and Slicing\n",
      "\n",
      "More info: [http://wiki.scipy.org/Tentative_NumPy_Tutorial](http://wiki.scipy.org/Tentative_NumPy_Tutorial)\n"
     ]
    },
    {
     "cell_type": "markdown",
     "metadata": {
      "slideshow": {
       "slide_type": "subslide"
      }
     },
     "source": [
      "# Numpy Overview\n",
      "\n",
      "* Why Python for Data? Numpy brings decades of C math into Python\n",
      "   * Numpy provides wrapper for extensive C/C++/Fortran codebases for data analysis and analytical functionality\n",
      "* NDAarray allows easy vectorized math and broadcasting (functions on vector elements of different shapes)\n",
      "* The computational foundation fro "
     ]
    },
    {
     "cell_type": "code",
     "collapsed": false,
     "input": [
      "from numpy import * #Load all the numpy packages\n",
      "\n"
     ],
     "language": "python",
     "metadata": {
      "slideshow": {
       "slide_type": "subslide"
      }
     },
     "outputs": []
    },
    {
     "cell_type": "markdown",
     "metadata": {
      "slideshow": {
       "slide_type": "subslide"
      }
     },
     "source": [
      "## Note: \"import as\"\n",
      "\n",
      "import * loads all sub module and is wasteful of memory when incorporated into deployed code. We use it here by example -- and its fine to use for learning purposes, legibility, etc.\n",
      "\n",
      "As we'll see later, the the convention is to use:\n",
      "\n",
      "    import numpy as np\n",
      "    \n",
      "And then to specifically call needed methods:\n",
      "\n",
      "![](http://note.io/1juA60F)"
     ]
    },
    {
     "cell_type": "markdown",
     "metadata": {
      "slideshow": {
       "slide_type": "subslide"
      }
     },
     "source": [
      "### Creating ndarrays"
     ]
    },
    {
     "cell_type": "markdown",
     "metadata": {
      "slideshow": {
       "slide_type": "fragment"
      }
     },
     "source": [
      "An array object represents a multidimensional, homogeneous array of fixed-size items. "
     ]
    },
    {
     "cell_type": "code",
     "collapsed": false,
     "input": [
      "# Creating arrays\n",
      "a = zeros((3))\n",
      "b = ones((2,3))\n",
      "c = random.randint(1,10,(2,3,4))\n",
      "d = arange(0,11,1)"
     ],
     "language": "python",
     "metadata": {
      "slideshow": {
       "slide_type": "subslide"
      }
     },
     "outputs": []
    },
    {
     "cell_type": "markdown",
     "metadata": {
      "slideshow": {
       "slide_type": "fragment"
      }
     },
     "source": [
      "What are these functions?\n",
      "\n",
      "    arange?"
     ]
    },
    {
     "cell_type": "code",
     "collapsed": true,
     "input": [
      "# Note the way each array is printed:\n",
      "a,b,c,d\n"
     ],
     "language": "python",
     "metadata": {
      "slideshow": {
       "slide_type": "fragment"
      }
     },
     "outputs": []
    },
    {
     "cell_type": "code",
     "collapsed": false,
     "input": [
      "## Arithmetic in arrays is element wise"
     ],
     "language": "python",
     "metadata": {
      "slideshow": {
       "slide_type": "subslide"
      }
     },
     "outputs": []
    },
    {
     "cell_type": "code",
     "collapsed": false,
     "input": [
      ">>> a = array( [20,30,40,50] )\n",
      ">>> b = arange( 4 )\n",
      ">>> b"
     ],
     "language": "python",
     "metadata": {
      "slideshow": {
       "slide_type": "fragment"
      }
     },
     "outputs": []
    },
    {
     "cell_type": "code",
     "collapsed": false,
     "input": [
      ">>> c = a-b\n",
      ">>> c"
     ],
     "language": "python",
     "metadata": {
      "slideshow": {
       "slide_type": "fragment"
      }
     },
     "outputs": []
    },
    {
     "cell_type": "code",
     "collapsed": false,
     "input": [
      ">>> b**2"
     ],
     "language": "python",
     "metadata": {
      "slideshow": {
       "slide_type": "fragment"
      }
     },
     "outputs": []
    },
    {
     "cell_type": "markdown",
     "metadata": {
      "slideshow": {
       "slide_type": "subslide"
      }
     },
     "source": [
      "## Indexing, Slicing and Iterating"
     ]
    },
    {
     "cell_type": "code",
     "collapsed": false,
     "input": [
      "# one-dimensional arrays work like lists:\n",
      "a = arange(10)**2"
     ],
     "language": "python",
     "metadata": {
      "slideshow": {
       "slide_type": "fragment"
      }
     },
     "outputs": []
    },
    {
     "cell_type": "code",
     "collapsed": true,
     "input": [
      "a"
     ],
     "language": "python",
     "metadata": {
      "slideshow": {
       "slide_type": "fragment"
      }
     },
     "outputs": []
    },
    {
     "cell_type": "code",
     "collapsed": false,
     "input": [
      "a[2:5]"
     ],
     "language": "python",
     "metadata": {
      "slideshow": {
       "slide_type": "fragment"
      }
     },
     "outputs": []
    },
    {
     "cell_type": "code",
     "collapsed": false,
     "input": [
      "# Multidimensional arrays use tuples with commas for indexing\n",
      "# with (row,column) conventions beginning, as always in Python, from 0"
     ],
     "language": "python",
     "metadata": {
      "slideshow": {
       "slide_type": "subslide"
      }
     },
     "outputs": []
    },
    {
     "cell_type": "code",
     "collapsed": false,
     "input": [
      "b = random.randint(1,100,(4,4))"
     ],
     "language": "python",
     "metadata": {
      "slideshow": {
       "slide_type": "fragment"
      }
     },
     "outputs": []
    },
    {
     "cell_type": "code",
     "collapsed": false,
     "input": [
      "b"
     ],
     "language": "python",
     "metadata": {
      "slideshow": {
       "slide_type": "fragment"
      }
     },
     "outputs": []
    },
    {
     "cell_type": "code",
     "collapsed": false,
     "input": [
      "# Guess the output\n",
      "print(b[2,3])\n",
      "print(b[0,0])\n"
     ],
     "language": "python",
     "metadata": {
      "slideshow": {
       "slide_type": "fragment"
      }
     },
     "outputs": []
    },
    {
     "cell_type": "code",
     "collapsed": false,
     "input": [
      "b[0:3,1],b[:,1]"
     ],
     "language": "python",
     "metadata": {
      "slideshow": {
       "slide_type": "fragment"
      }
     },
     "outputs": []
    },
    {
     "cell_type": "code",
     "collapsed": false,
     "input": [
      "b[1:3,:]"
     ],
     "language": "python",
     "metadata": {
      "slideshow": {
       "slide_type": "fragment"
      }
     },
     "outputs": []
    },
    {
     "cell_type": "markdown",
     "metadata": {
      "slideshow": {
       "slide_type": "slide"
      }
     },
     "source": [
      "## Pandas\n",
      "\n",
      "* Object Creation\n",
      "* Viewing data\n",
      "* Selection\n",
      "* Missing data\n",
      "* Grouping\n",
      "* Reshaping\n",
      "* Time series\n",
      "* Plotting\n",
      "* i/o\n",
      " \n",
      "\n",
      "_pandas.pydata.org_"
     ]
    },
    {
     "cell_type": "markdown",
     "metadata": {
      "slideshow": {
       "slide_type": "slide"
      }
     },
     "source": [
      "## Pandas Overview\n",
      "\n",
      "_Source: [pandas.pydata.org](http://pandas.pydata.org/pandas-docs/stable/10min.html)_"
     ]
    },
    {
     "cell_type": "code",
     "collapsed": false,
     "input": [
      "import pandas as pd\n",
      "import numpy as np\n",
      "import matplotlib.pyplot as plt"
     ],
     "language": "python",
     "metadata": {
      "slideshow": {
       "slide_type": "subslide"
      }
     },
     "outputs": [],
     "prompt_number": 1
    },
    {
     "cell_type": "code",
     "collapsed": false,
     "input": [
      "dates = pd.date_range('20140101',periods=6)\n",
      "dates"
     ],
     "language": "python",
     "metadata": {
      "slideshow": {
       "slide_type": "subslide"
      }
     },
     "outputs": [
      {
       "metadata": {},
       "output_type": "pyout",
       "prompt_number": 7,
       "text": [
        "<class 'pandas.tseries.index.DatetimeIndex'>\n",
        "[2014-01-01, ..., 2014-01-06]\n",
        "Length: 6, Freq: D, Timezone: None"
       ]
      }
     ],
     "prompt_number": 7
    },
    {
     "cell_type": "code",
     "collapsed": false,
     "input": [
      "df = pd.DataFrame(np.random.randn(6,4),index=dates,columns=list('ABCD'))"
     ],
     "language": "python",
     "metadata": {
      "slideshow": {
       "slide_type": "subslide"
      }
     },
     "outputs": [],
     "prompt_number": 15
    },
    {
     "cell_type": "code",
     "collapsed": false,
     "input": [
      "# Index, columns, underlying numpy data\n",
      "df"
     ],
     "language": "python",
     "metadata": {
      "slideshow": {
       "slide_type": "subslide"
      }
     },
     "outputs": [
      {
       "html": [
        "<div style=\"max-height:1000px;max-width:1500px;overflow:auto;\">\n",
        "<table border=\"1\" class=\"dataframe\">\n",
        "  <thead>\n",
        "    <tr style=\"text-align: right;\">\n",
        "      <th></th>\n",
        "      <th>A</th>\n",
        "      <th>B</th>\n",
        "      <th>C</th>\n",
        "      <th>D</th>\n",
        "    </tr>\n",
        "  </thead>\n",
        "  <tbody>\n",
        "    <tr>\n",
        "      <th>2014-01-01</th>\n",
        "      <td>-0.253154</td>\n",
        "      <td>-0.268236</td>\n",
        "      <td>-1.087063</td>\n",
        "      <td>-0.193307</td>\n",
        "    </tr>\n",
        "    <tr>\n",
        "      <th>2014-01-02</th>\n",
        "      <td>-0.301550</td>\n",
        "      <td>-0.678438</td>\n",
        "      <td> 1.007827</td>\n",
        "      <td>-0.235908</td>\n",
        "    </tr>\n",
        "    <tr>\n",
        "      <th>2014-01-03</th>\n",
        "      <td>-2.626089</td>\n",
        "      <td> 0.841060</td>\n",
        "      <td> 0.867854</td>\n",
        "      <td> 0.011942</td>\n",
        "    </tr>\n",
        "    <tr>\n",
        "      <th>2014-01-04</th>\n",
        "      <td>-0.423249</td>\n",
        "      <td>-1.528061</td>\n",
        "      <td>-1.277524</td>\n",
        "      <td>-0.398182</td>\n",
        "    </tr>\n",
        "    <tr>\n",
        "      <th>2014-01-05</th>\n",
        "      <td> 2.006278</td>\n",
        "      <td> 0.916812</td>\n",
        "      <td> 1.372936</td>\n",
        "      <td>-0.117982</td>\n",
        "    </tr>\n",
        "    <tr>\n",
        "      <th>2014-01-06</th>\n",
        "      <td>-0.510593</td>\n",
        "      <td>-0.887778</td>\n",
        "      <td>-1.253501</td>\n",
        "      <td> 1.447444</td>\n",
        "    </tr>\n",
        "  </tbody>\n",
        "</table>\n",
        "<p>6 rows \u00d7 4 columns</p>\n",
        "</div>"
       ],
       "metadata": {},
       "output_type": "pyout",
       "prompt_number": 16,
       "text": [
        "                   A         B         C         D\n",
        "2014-01-01 -0.253154 -0.268236 -1.087063 -0.193307\n",
        "2014-01-02 -0.301550 -0.678438  1.007827 -0.235908\n",
        "2014-01-03 -2.626089  0.841060  0.867854  0.011942\n",
        "2014-01-04 -0.423249 -1.528061 -1.277524 -0.398182\n",
        "2014-01-05  2.006278  0.916812  1.372936 -0.117982\n",
        "2014-01-06 -0.510593 -0.887778 -1.253501  1.447444\n",
        "\n",
        "[6 rows x 4 columns]"
       ]
      }
     ],
     "prompt_number": 16
    },
    {
     "cell_type": "code",
     "collapsed": false,
     "input": [
      "df2 = pd.DataFrame({ 'A' : 1.,\n",
      "                         'B' : pd.Timestamp('20130102'),\n",
      "                         'C' : pd.Series(1,index=list(range(4)),dtype='float32'),\n",
      "                         'D' : np.array([3] * 4,dtype='int32'),\n",
      "                         'E' : 'foo' })\n",
      "    \n",
      "\n",
      "df2"
     ],
     "language": "python",
     "metadata": {
      "slideshow": {
       "slide_type": "subslide"
      }
     },
     "outputs": [
      {
       "html": [
        "<div style=\"max-height:1000px;max-width:1500px;overflow:auto;\">\n",
        "<table border=\"1\" class=\"dataframe\">\n",
        "  <thead>\n",
        "    <tr style=\"text-align: right;\">\n",
        "      <th></th>\n",
        "      <th>A</th>\n",
        "      <th>B</th>\n",
        "      <th>C</th>\n",
        "      <th>D</th>\n",
        "      <th>E</th>\n",
        "    </tr>\n",
        "  </thead>\n",
        "  <tbody>\n",
        "    <tr>\n",
        "      <th>0</th>\n",
        "      <td> 1</td>\n",
        "      <td>2013-01-02</td>\n",
        "      <td> 1</td>\n",
        "      <td> 12</td>\n",
        "      <td> foo</td>\n",
        "    </tr>\n",
        "    <tr>\n",
        "      <th>1</th>\n",
        "      <td> 1</td>\n",
        "      <td>2013-01-02</td>\n",
        "      <td> 1</td>\n",
        "      <td> 12</td>\n",
        "      <td> foo</td>\n",
        "    </tr>\n",
        "    <tr>\n",
        "      <th>2</th>\n",
        "      <td> 1</td>\n",
        "      <td>2013-01-02</td>\n",
        "      <td> 1</td>\n",
        "      <td> 12</td>\n",
        "      <td> foo</td>\n",
        "    </tr>\n",
        "    <tr>\n",
        "      <th>3</th>\n",
        "      <td> 1</td>\n",
        "      <td>2013-01-02</td>\n",
        "      <td> 1</td>\n",
        "      <td> 12</td>\n",
        "      <td> foo</td>\n",
        "    </tr>\n",
        "  </tbody>\n",
        "</table>\n",
        "<p>4 rows \u00d7 5 columns</p>\n",
        "</div>"
       ],
       "metadata": {},
       "output_type": "pyout",
       "prompt_number": 45,
       "text": [
        "   A          B  C   D    E\n",
        "0  1 2013-01-02  1  12  foo\n",
        "1  1 2013-01-02  1  12  foo\n",
        "2  1 2013-01-02  1  12  foo\n",
        "3  1 2013-01-02  1  12  foo\n",
        "\n",
        "[4 rows x 5 columns]"
       ]
      }
     ],
     "prompt_number": 45
    },
    {
     "cell_type": "code",
     "collapsed": false,
     "input": [
      "# With specific dtypes\n",
      "df2.dtypes"
     ],
     "language": "python",
     "metadata": {
      "slideshow": {
       "slide_type": "subslide"
      }
     },
     "outputs": [
      {
       "metadata": {},
       "output_type": "pyout",
       "prompt_number": 17,
       "text": [
        "A           float64\n",
        "B    datetime64[ns]\n",
        "C           float32\n",
        "D             int32\n",
        "E            object\n",
        "dtype: object"
       ]
      }
     ],
     "prompt_number": 17
    },
    {
     "cell_type": "markdown",
     "metadata": {
      "slideshow": {
       "slide_type": "slide"
      }
     },
     "source": [
      "#### Viewing Data"
     ]
    },
    {
     "cell_type": "code",
     "collapsed": false,
     "input": [
      "df.head()"
     ],
     "language": "python",
     "metadata": {
      "slideshow": {
       "slide_type": "subslide"
      }
     },
     "outputs": [
      {
       "html": [
        "<div style=\"max-height:1000px;max-width:1500px;overflow:auto;\">\n",
        "<table border=\"1\" class=\"dataframe\">\n",
        "  <thead>\n",
        "    <tr style=\"text-align: right;\">\n",
        "      <th></th>\n",
        "      <th>A</th>\n",
        "      <th>B</th>\n",
        "      <th>C</th>\n",
        "      <th>D</th>\n",
        "    </tr>\n",
        "  </thead>\n",
        "  <tbody>\n",
        "    <tr>\n",
        "      <th>2014-01-01</th>\n",
        "      <td>-0.253154</td>\n",
        "      <td>-0.268236</td>\n",
        "      <td>-1.087063</td>\n",
        "      <td>-0.193307</td>\n",
        "    </tr>\n",
        "    <tr>\n",
        "      <th>2014-01-02</th>\n",
        "      <td>-0.301550</td>\n",
        "      <td>-0.678438</td>\n",
        "      <td> 1.007827</td>\n",
        "      <td>-0.235908</td>\n",
        "    </tr>\n",
        "    <tr>\n",
        "      <th>2014-01-03</th>\n",
        "      <td>-2.626089</td>\n",
        "      <td> 0.841060</td>\n",
        "      <td> 0.867854</td>\n",
        "      <td> 0.011942</td>\n",
        "    </tr>\n",
        "    <tr>\n",
        "      <th>2014-01-04</th>\n",
        "      <td>-0.423249</td>\n",
        "      <td>-1.528061</td>\n",
        "      <td>-1.277524</td>\n",
        "      <td>-0.398182</td>\n",
        "    </tr>\n",
        "    <tr>\n",
        "      <th>2014-01-05</th>\n",
        "      <td> 2.006278</td>\n",
        "      <td> 0.916812</td>\n",
        "      <td> 1.372936</td>\n",
        "      <td>-0.117982</td>\n",
        "    </tr>\n",
        "  </tbody>\n",
        "</table>\n",
        "<p>5 rows \u00d7 4 columns</p>\n",
        "</div>"
       ],
       "metadata": {},
       "output_type": "pyout",
       "prompt_number": 18,
       "text": [
        "                   A         B         C         D\n",
        "2014-01-01 -0.253154 -0.268236 -1.087063 -0.193307\n",
        "2014-01-02 -0.301550 -0.678438  1.007827 -0.235908\n",
        "2014-01-03 -2.626089  0.841060  0.867854  0.011942\n",
        "2014-01-04 -0.423249 -1.528061 -1.277524 -0.398182\n",
        "2014-01-05  2.006278  0.916812  1.372936 -0.117982\n",
        "\n",
        "[5 rows x 4 columns]"
       ]
      }
     ],
     "prompt_number": 18
    },
    {
     "cell_type": "code",
     "collapsed": false,
     "input": [
      "df.tail()"
     ],
     "language": "python",
     "metadata": {
      "slideshow": {
       "slide_type": "fragment"
      }
     },
     "outputs": [
      {
       "html": [
        "<div style=\"max-height:1000px;max-width:1500px;overflow:auto;\">\n",
        "<table border=\"1\" class=\"dataframe\">\n",
        "  <thead>\n",
        "    <tr style=\"text-align: right;\">\n",
        "      <th></th>\n",
        "      <th>A</th>\n",
        "      <th>B</th>\n",
        "      <th>C</th>\n",
        "      <th>D</th>\n",
        "    </tr>\n",
        "  </thead>\n",
        "  <tbody>\n",
        "    <tr>\n",
        "      <th>2014-01-02</th>\n",
        "      <td>-0.301550</td>\n",
        "      <td>-0.678438</td>\n",
        "      <td> 1.007827</td>\n",
        "      <td>-0.235908</td>\n",
        "    </tr>\n",
        "    <tr>\n",
        "      <th>2014-01-03</th>\n",
        "      <td>-2.626089</td>\n",
        "      <td> 0.841060</td>\n",
        "      <td> 0.867854</td>\n",
        "      <td> 0.011942</td>\n",
        "    </tr>\n",
        "    <tr>\n",
        "      <th>2014-01-04</th>\n",
        "      <td>-0.423249</td>\n",
        "      <td>-1.528061</td>\n",
        "      <td>-1.277524</td>\n",
        "      <td>-0.398182</td>\n",
        "    </tr>\n",
        "    <tr>\n",
        "      <th>2014-01-05</th>\n",
        "      <td> 2.006278</td>\n",
        "      <td> 0.916812</td>\n",
        "      <td> 1.372936</td>\n",
        "      <td>-0.117982</td>\n",
        "    </tr>\n",
        "    <tr>\n",
        "      <th>2014-01-06</th>\n",
        "      <td>-0.510593</td>\n",
        "      <td>-0.887778</td>\n",
        "      <td>-1.253501</td>\n",
        "      <td> 1.447444</td>\n",
        "    </tr>\n",
        "  </tbody>\n",
        "</table>\n",
        "<p>5 rows \u00d7 4 columns</p>\n",
        "</div>"
       ],
       "metadata": {},
       "output_type": "pyout",
       "prompt_number": 19,
       "text": [
        "                   A         B         C         D\n",
        "2014-01-02 -0.301550 -0.678438  1.007827 -0.235908\n",
        "2014-01-03 -2.626089  0.841060  0.867854  0.011942\n",
        "2014-01-04 -0.423249 -1.528061 -1.277524 -0.398182\n",
        "2014-01-05  2.006278  0.916812  1.372936 -0.117982\n",
        "2014-01-06 -0.510593 -0.887778 -1.253501  1.447444\n",
        "\n",
        "[5 rows x 4 columns]"
       ]
      }
     ],
     "prompt_number": 19
    },
    {
     "cell_type": "code",
     "collapsed": false,
     "input": [
      "df.index"
     ],
     "language": "python",
     "metadata": {
      "slideshow": {
       "slide_type": "subslide"
      }
     },
     "outputs": [
      {
       "metadata": {},
       "output_type": "pyout",
       "prompt_number": 29,
       "text": [
        "<class 'pandas.tseries.index.DatetimeIndex'>\n",
        "[2014-01-01, ..., 2014-01-06]\n",
        "Length: 6, Freq: D, Timezone: None"
       ]
      }
     ],
     "prompt_number": 29
    },
    {
     "cell_type": "code",
     "collapsed": false,
     "input": [
      "df.describe()"
     ],
     "language": "python",
     "metadata": {
      "slideshow": {
       "slide_type": "subslide"
      }
     },
     "outputs": [
      {
       "html": [
        "<div style=\"max-height:1000px;max-width:1500px;overflow:auto;\">\n",
        "<table border=\"1\" class=\"dataframe\">\n",
        "  <thead>\n",
        "    <tr style=\"text-align: right;\">\n",
        "      <th></th>\n",
        "      <th>A</th>\n",
        "      <th>B</th>\n",
        "      <th>C</th>\n",
        "      <th>D</th>\n",
        "    </tr>\n",
        "  </thead>\n",
        "  <tbody>\n",
        "    <tr>\n",
        "      <th>count</th>\n",
        "      <td> 6.000000</td>\n",
        "      <td> 6.000000</td>\n",
        "      <td> 6.000000</td>\n",
        "      <td> 6.000000</td>\n",
        "    </tr>\n",
        "    <tr>\n",
        "      <th>mean</th>\n",
        "      <td>-0.351393</td>\n",
        "      <td>-0.267440</td>\n",
        "      <td>-0.061578</td>\n",
        "      <td> 0.085668</td>\n",
        "    </tr>\n",
        "    <tr>\n",
        "      <th>std</th>\n",
        "      <td> 1.468026</td>\n",
        "      <td> 0.977152</td>\n",
        "      <td> 1.266185</td>\n",
        "      <td> 0.680690</td>\n",
        "    </tr>\n",
        "    <tr>\n",
        "      <th>min</th>\n",
        "      <td>-2.626089</td>\n",
        "      <td>-1.528061</td>\n",
        "      <td>-1.277524</td>\n",
        "      <td>-0.398182</td>\n",
        "    </tr>\n",
        "    <tr>\n",
        "      <th>25%</th>\n",
        "      <td>-0.488757</td>\n",
        "      <td>-0.835443</td>\n",
        "      <td>-1.211891</td>\n",
        "      <td>-0.225258</td>\n",
        "    </tr>\n",
        "    <tr>\n",
        "      <th>50%</th>\n",
        "      <td>-0.362399</td>\n",
        "      <td>-0.473337</td>\n",
        "      <td>-0.109605</td>\n",
        "      <td>-0.155644</td>\n",
        "    </tr>\n",
        "    <tr>\n",
        "      <th>75%</th>\n",
        "      <td>-0.265253</td>\n",
        "      <td> 0.563736</td>\n",
        "      <td> 0.972834</td>\n",
        "      <td>-0.020539</td>\n",
        "    </tr>\n",
        "    <tr>\n",
        "      <th>max</th>\n",
        "      <td> 2.006278</td>\n",
        "      <td> 0.916812</td>\n",
        "      <td> 1.372936</td>\n",
        "      <td> 1.447444</td>\n",
        "    </tr>\n",
        "  </tbody>\n",
        "</table>\n",
        "<p>8 rows \u00d7 4 columns</p>\n",
        "</div>"
       ],
       "metadata": {},
       "output_type": "pyout",
       "prompt_number": 21,
       "text": [
        "              A         B         C         D\n",
        "count  6.000000  6.000000  6.000000  6.000000\n",
        "mean  -0.351393 -0.267440 -0.061578  0.085668\n",
        "std    1.468026  0.977152  1.266185  0.680690\n",
        "min   -2.626089 -1.528061 -1.277524 -0.398182\n",
        "25%   -0.488757 -0.835443 -1.211891 -0.225258\n",
        "50%   -0.362399 -0.473337 -0.109605 -0.155644\n",
        "75%   -0.265253  0.563736  0.972834 -0.020539\n",
        "max    2.006278  0.916812  1.372936  1.447444\n",
        "\n",
        "[8 rows x 4 columns]"
       ]
      }
     ],
     "prompt_number": 21
    },
    {
     "cell_type": "code",
     "collapsed": false,
     "input": [
      "df.sort(columns='B')"
     ],
     "language": "python",
     "metadata": {
      "slideshow": {
       "slide_type": "subslide"
      }
     },
     "outputs": [
      {
       "html": [
        "<div style=\"max-height:1000px;max-width:1500px;overflow:auto;\">\n",
        "<table border=\"1\" class=\"dataframe\">\n",
        "  <thead>\n",
        "    <tr style=\"text-align: right;\">\n",
        "      <th></th>\n",
        "      <th>A</th>\n",
        "      <th>B</th>\n",
        "      <th>C</th>\n",
        "      <th>D</th>\n",
        "    </tr>\n",
        "  </thead>\n",
        "  <tbody>\n",
        "    <tr>\n",
        "      <th>2014-01-04</th>\n",
        "      <td>-0.423249</td>\n",
        "      <td>-1.528061</td>\n",
        "      <td>-1.277524</td>\n",
        "      <td>-0.398182</td>\n",
        "    </tr>\n",
        "    <tr>\n",
        "      <th>2014-01-06</th>\n",
        "      <td>-0.510593</td>\n",
        "      <td>-0.887778</td>\n",
        "      <td>-1.253501</td>\n",
        "      <td> 1.447444</td>\n",
        "    </tr>\n",
        "    <tr>\n",
        "      <th>2014-01-02</th>\n",
        "      <td>-0.301550</td>\n",
        "      <td>-0.678438</td>\n",
        "      <td> 1.007827</td>\n",
        "      <td>-0.235908</td>\n",
        "    </tr>\n",
        "    <tr>\n",
        "      <th>2014-01-01</th>\n",
        "      <td>-0.253154</td>\n",
        "      <td>-0.268236</td>\n",
        "      <td>-1.087063</td>\n",
        "      <td>-0.193307</td>\n",
        "    </tr>\n",
        "    <tr>\n",
        "      <th>2014-01-03</th>\n",
        "      <td>-2.626089</td>\n",
        "      <td> 0.841060</td>\n",
        "      <td> 0.867854</td>\n",
        "      <td> 0.011942</td>\n",
        "    </tr>\n",
        "    <tr>\n",
        "      <th>2014-01-05</th>\n",
        "      <td> 2.006278</td>\n",
        "      <td> 0.916812</td>\n",
        "      <td> 1.372936</td>\n",
        "      <td>-0.117982</td>\n",
        "    </tr>\n",
        "  </tbody>\n",
        "</table>\n",
        "<p>6 rows \u00d7 4 columns</p>\n",
        "</div>"
       ],
       "metadata": {},
       "output_type": "pyout",
       "prompt_number": 22,
       "text": [
        "                   A         B         C         D\n",
        "2014-01-04 -0.423249 -1.528061 -1.277524 -0.398182\n",
        "2014-01-06 -0.510593 -0.887778 -1.253501  1.447444\n",
        "2014-01-02 -0.301550 -0.678438  1.007827 -0.235908\n",
        "2014-01-01 -0.253154 -0.268236 -1.087063 -0.193307\n",
        "2014-01-03 -2.626089  0.841060  0.867854  0.011942\n",
        "2014-01-05  2.006278  0.916812  1.372936 -0.117982\n",
        "\n",
        "[6 rows x 4 columns]"
       ]
      }
     ],
     "prompt_number": 22
    },
    {
     "cell_type": "markdown",
     "metadata": {
      "slideshow": {
       "slide_type": "slide"
      }
     },
     "source": [
      "### Selection"
     ]
    },
    {
     "cell_type": "code",
     "collapsed": false,
     "input": [
      "df['A']"
     ],
     "language": "python",
     "metadata": {
      "slideshow": {
       "slide_type": "subslide"
      }
     },
     "outputs": [
      {
       "metadata": {},
       "output_type": "pyout",
       "prompt_number": 25,
       "text": [
        "2014-01-01   -0.253154\n",
        "2014-01-02   -0.301550\n",
        "2014-01-03   -2.626089\n",
        "2014-01-04   -0.423249\n",
        "2014-01-05    2.006278\n",
        "2014-01-06   -0.510593\n",
        "Freq: D, Name: A, dtype: float64"
       ]
      }
     ],
     "prompt_number": 25
    },
    {
     "cell_type": "code",
     "collapsed": false,
     "input": [
      "df[0:3]"
     ],
     "language": "python",
     "metadata": {
      "slideshow": {
       "slide_type": "subslide"
      }
     },
     "outputs": [
      {
       "html": [
        "<div style=\"max-height:1000px;max-width:1500px;overflow:auto;\">\n",
        "<table border=\"1\" class=\"dataframe\">\n",
        "  <thead>\n",
        "    <tr style=\"text-align: right;\">\n",
        "      <th></th>\n",
        "      <th>A</th>\n",
        "      <th>B</th>\n",
        "      <th>C</th>\n",
        "      <th>D</th>\n",
        "    </tr>\n",
        "  </thead>\n",
        "  <tbody>\n",
        "    <tr>\n",
        "      <th>2014-01-01</th>\n",
        "      <td>-0.253154</td>\n",
        "      <td>-0.268236</td>\n",
        "      <td>-1.087063</td>\n",
        "      <td>-0.193307</td>\n",
        "    </tr>\n",
        "    <tr>\n",
        "      <th>2014-01-02</th>\n",
        "      <td>-0.301550</td>\n",
        "      <td>-0.678438</td>\n",
        "      <td> 1.007827</td>\n",
        "      <td>-0.235908</td>\n",
        "    </tr>\n",
        "    <tr>\n",
        "      <th>2014-01-03</th>\n",
        "      <td>-2.626089</td>\n",
        "      <td> 0.841060</td>\n",
        "      <td> 0.867854</td>\n",
        "      <td> 0.011942</td>\n",
        "    </tr>\n",
        "  </tbody>\n",
        "</table>\n",
        "<p>3 rows \u00d7 4 columns</p>\n",
        "</div>"
       ],
       "metadata": {},
       "output_type": "pyout",
       "prompt_number": 26,
       "text": [
        "                   A         B         C         D\n",
        "2014-01-01 -0.253154 -0.268236 -1.087063 -0.193307\n",
        "2014-01-02 -0.301550 -0.678438  1.007827 -0.235908\n",
        "2014-01-03 -2.626089  0.841060  0.867854  0.011942\n",
        "\n",
        "[3 rows x 4 columns]"
       ]
      }
     ],
     "prompt_number": 26
    },
    {
     "cell_type": "code",
     "collapsed": false,
     "input": [
      "# By label\n",
      "df.loc[dates[0]]"
     ],
     "language": "python",
     "metadata": {
      "slideshow": {
       "slide_type": "subslide"
      }
     },
     "outputs": [
      {
       "metadata": {},
       "output_type": "pyout",
       "prompt_number": 39,
       "text": [
        "A   -0.253154\n",
        "B   -0.268236\n",
        "C   -1.087063\n",
        "D   -0.193307\n",
        "Name: 2014-01-01 00:00:00, dtype: float64"
       ]
      }
     ],
     "prompt_number": 39
    },
    {
     "cell_type": "code",
     "collapsed": false,
     "input": [
      "# multi-axis by label\n",
      "df.loc[:,['A','B']]"
     ],
     "language": "python",
     "metadata": {
      "slideshow": {
       "slide_type": "fragment"
      }
     },
     "outputs": [
      {
       "html": [
        "<div style=\"max-height:1000px;max-width:1500px;overflow:auto;\">\n",
        "<table border=\"1\" class=\"dataframe\">\n",
        "  <thead>\n",
        "    <tr style=\"text-align: right;\">\n",
        "      <th></th>\n",
        "      <th>A</th>\n",
        "      <th>B</th>\n",
        "    </tr>\n",
        "  </thead>\n",
        "  <tbody>\n",
        "    <tr>\n",
        "      <th>2014-01-01</th>\n",
        "      <td>-0.253154</td>\n",
        "      <td>-0.268236</td>\n",
        "    </tr>\n",
        "    <tr>\n",
        "      <th>2014-01-02</th>\n",
        "      <td>-0.301550</td>\n",
        "      <td>-0.678438</td>\n",
        "    </tr>\n",
        "    <tr>\n",
        "      <th>2014-01-03</th>\n",
        "      <td>-2.626089</td>\n",
        "      <td> 0.841060</td>\n",
        "    </tr>\n",
        "    <tr>\n",
        "      <th>2014-01-04</th>\n",
        "      <td>-0.423249</td>\n",
        "      <td>-1.528061</td>\n",
        "    </tr>\n",
        "    <tr>\n",
        "      <th>2014-01-05</th>\n",
        "      <td> 2.006278</td>\n",
        "      <td> 0.916812</td>\n",
        "    </tr>\n",
        "    <tr>\n",
        "      <th>2014-01-06</th>\n",
        "      <td>-0.510593</td>\n",
        "      <td>-0.887778</td>\n",
        "    </tr>\n",
        "  </tbody>\n",
        "</table>\n",
        "<p>6 rows \u00d7 2 columns</p>\n",
        "</div>"
       ],
       "metadata": {},
       "output_type": "pyout",
       "prompt_number": 35,
       "text": [
        "                   A         B\n",
        "2014-01-01 -0.253154 -0.268236\n",
        "2014-01-02 -0.301550 -0.678438\n",
        "2014-01-03 -2.626089  0.841060\n",
        "2014-01-04 -0.423249 -1.528061\n",
        "2014-01-05  2.006278  0.916812\n",
        "2014-01-06 -0.510593 -0.887778\n",
        "\n",
        "[6 rows x 2 columns]"
       ]
      }
     ],
     "prompt_number": 35
    },
    {
     "cell_type": "code",
     "collapsed": false,
     "input": [
      "# Date Range\n",
      "df.loc['20140102':'20140104',['B']]"
     ],
     "language": "python",
     "metadata": {
      "slideshow": {
       "slide_type": "fragment"
      }
     },
     "outputs": [
      {
       "html": [
        "<div style=\"max-height:1000px;max-width:1500px;overflow:auto;\">\n",
        "<table border=\"1\" class=\"dataframe\">\n",
        "  <thead>\n",
        "    <tr style=\"text-align: right;\">\n",
        "      <th></th>\n",
        "      <th>B</th>\n",
        "    </tr>\n",
        "  </thead>\n",
        "  <tbody>\n",
        "    <tr>\n",
        "      <th>2014-01-02</th>\n",
        "      <td>-0.678438</td>\n",
        "    </tr>\n",
        "    <tr>\n",
        "      <th>2014-01-03</th>\n",
        "      <td> 0.841060</td>\n",
        "    </tr>\n",
        "    <tr>\n",
        "      <th>2014-01-04</th>\n",
        "      <td>-1.528061</td>\n",
        "    </tr>\n",
        "  </tbody>\n",
        "</table>\n",
        "<p>3 rows \u00d7 1 columns</p>\n",
        "</div>"
       ],
       "metadata": {},
       "output_type": "pyout",
       "prompt_number": 40,
       "text": [
        "                   B\n",
        "2014-01-02 -0.678438\n",
        "2014-01-03  0.841060\n",
        "2014-01-04 -1.528061\n",
        "\n",
        "[3 rows x 1 columns]"
       ]
      }
     ],
     "prompt_number": 40
    },
    {
     "cell_type": "code",
     "collapsed": false,
     "input": [
      "# Fast access to scalar\n",
      "df.at[dates[1],'B']"
     ],
     "language": "python",
     "metadata": {
      "slideshow": {
       "slide_type": "fragment"
      }
     },
     "outputs": [
      {
       "metadata": {},
       "output_type": "pyout",
       "prompt_number": 48,
       "text": [
        "-0.67843810069506549"
       ]
      }
     ],
     "prompt_number": 48
    },
    {
     "cell_type": "code",
     "collapsed": false,
     "input": [
      "# iloc provides integer locations similar to np style\n",
      "df.iloc[1]"
     ],
     "language": "python",
     "metadata": {
      "slideshow": {
       "slide_type": "fragment"
      }
     },
     "outputs": [
      {
       "metadata": {},
       "output_type": "pyout",
       "prompt_number": 43,
       "text": [
        "A   -0.301550\n",
        "B   -0.678438\n",
        "C    1.007827\n",
        "D   -0.235908\n",
        "Name: 2014-01-02 00:00:00, dtype: float64"
       ]
      }
     ],
     "prompt_number": 43
    },
    {
     "cell_type": "markdown",
     "metadata": {
      "slideshow": {
       "slide_type": "subslide"
      }
     },
     "source": [
      "#### Boolean Indexing"
     ]
    },
    {
     "cell_type": "code",
     "collapsed": false,
     "input": [
      "df.query(df.C < 0) # Basically a 'where' operation"
     ],
     "language": "python",
     "metadata": {
      "slideshow": {
       "slide_type": "fragment"
      }
     },
     "outputs": [
      {
       "html": [
        "<div style=\"max-height:1000px;max-width:1500px;overflow:auto;\">\n",
        "<table border=\"1\" class=\"dataframe\">\n",
        "  <thead>\n",
        "    <tr style=\"text-align: right;\">\n",
        "      <th></th>\n",
        "      <th>A</th>\n",
        "      <th>B</th>\n",
        "      <th>C</th>\n",
        "      <th>D</th>\n",
        "      <th>F</th>\n",
        "    </tr>\n",
        "  </thead>\n",
        "  <tbody>\n",
        "    <tr>\n",
        "      <th>2014-01-01</th>\n",
        "      <td>-0.253154</td>\n",
        "      <td>-0.268236</td>\n",
        "      <td>-1.087063</td>\n",
        "      <td>-0.193307</td>\n",
        "      <td>NaN</td>\n",
        "    </tr>\n",
        "    <tr>\n",
        "      <th>2014-01-04</th>\n",
        "      <td>-0.423249</td>\n",
        "      <td>-1.528061</td>\n",
        "      <td>-1.277524</td>\n",
        "      <td>-0.398182</td>\n",
        "      <td>  3</td>\n",
        "    </tr>\n",
        "    <tr>\n",
        "      <th>2014-01-06</th>\n",
        "      <td>-0.510593</td>\n",
        "      <td>-0.887778</td>\n",
        "      <td>-1.253501</td>\n",
        "      <td> 1.447444</td>\n",
        "      <td>  5</td>\n",
        "    </tr>\n",
        "  </tbody>\n",
        "</table>\n",
        "<p>3 rows \u00d7 5 columns</p>\n",
        "</div>"
       ],
       "metadata": {},
       "output_type": "pyout",
       "prompt_number": 84,
       "text": [
        "                   A         B         C         D   F\n",
        "2014-01-01 -0.253154 -0.268236 -1.087063 -0.193307 NaN\n",
        "2014-01-04 -0.423249 -1.528061 -1.277524 -0.398182   3\n",
        "2014-01-06 -0.510593 -0.887778 -1.253501  1.447444   5\n",
        "\n",
        "[3 rows x 5 columns]"
       ]
      }
     ],
     "prompt_number": 84
    },
    {
     "cell_type": "markdown",
     "metadata": {
      "slideshow": {
       "slide_type": "subslide"
      }
     },
     "source": [
      "#### Setting"
     ]
    },
    {
     "cell_type": "code",
     "collapsed": false,
     "input": [
      "df_posA = df.copy() # Without \"copy\" it would act on the dataset\n",
      "df_posA[df_posA.A < 0] = -1*df_posA"
     ],
     "language": "python",
     "metadata": {
      "slideshow": {
       "slide_type": "fragment"
      }
     },
     "outputs": [],
     "prompt_number": 85
    },
    {
     "cell_type": "code",
     "collapsed": false,
     "input": [
      "df_posA\n",
      "# df"
     ],
     "language": "python",
     "metadata": {
      "slideshow": {
       "slide_type": "fragment"
      }
     },
     "outputs": [
      {
       "html": [
        "<div style=\"max-height:1000px;max-width:1500px;overflow:auto;\">\n",
        "<table border=\"1\" class=\"dataframe\">\n",
        "  <thead>\n",
        "    <tr style=\"text-align: right;\">\n",
        "      <th></th>\n",
        "      <th>A</th>\n",
        "      <th>B</th>\n",
        "      <th>C</th>\n",
        "      <th>D</th>\n",
        "      <th>F</th>\n",
        "    </tr>\n",
        "  </thead>\n",
        "  <tbody>\n",
        "    <tr>\n",
        "      <th>2014-01-01</th>\n",
        "      <td> 0.253154</td>\n",
        "      <td> 0.268236</td>\n",
        "      <td> 1.087063</td>\n",
        "      <td> 0.193307</td>\n",
        "      <td>NaN</td>\n",
        "    </tr>\n",
        "    <tr>\n",
        "      <th>2014-01-02</th>\n",
        "      <td> 0.301550</td>\n",
        "      <td> 0.678438</td>\n",
        "      <td>-1.007827</td>\n",
        "      <td> 0.235908</td>\n",
        "      <td> -1</td>\n",
        "    </tr>\n",
        "    <tr>\n",
        "      <th>2014-01-03</th>\n",
        "      <td> 2.626089</td>\n",
        "      <td>-0.841060</td>\n",
        "      <td>-0.867854</td>\n",
        "      <td>-0.011942</td>\n",
        "      <td> -2</td>\n",
        "    </tr>\n",
        "    <tr>\n",
        "      <th>2014-01-04</th>\n",
        "      <td> 0.423249</td>\n",
        "      <td> 1.528061</td>\n",
        "      <td> 1.277524</td>\n",
        "      <td> 0.398182</td>\n",
        "      <td> -3</td>\n",
        "    </tr>\n",
        "    <tr>\n",
        "      <th>2014-01-05</th>\n",
        "      <td> 2.006278</td>\n",
        "      <td> 0.916812</td>\n",
        "      <td> 1.372936</td>\n",
        "      <td>-0.117982</td>\n",
        "      <td>  4</td>\n",
        "    </tr>\n",
        "    <tr>\n",
        "      <th>2014-01-06</th>\n",
        "      <td> 0.510593</td>\n",
        "      <td> 0.887778</td>\n",
        "      <td> 1.253501</td>\n",
        "      <td>-1.447444</td>\n",
        "      <td> -5</td>\n",
        "    </tr>\n",
        "  </tbody>\n",
        "</table>\n",
        "<p>6 rows \u00d7 5 columns</p>\n",
        "</div>"
       ],
       "metadata": {},
       "output_type": "pyout",
       "prompt_number": 77,
       "text": [
        "                   A         B         C         D   F\n",
        "2014-01-01  0.253154  0.268236  1.087063  0.193307 NaN\n",
        "2014-01-02  0.301550  0.678438 -1.007827  0.235908  -1\n",
        "2014-01-03  2.626089 -0.841060 -0.867854 -0.011942  -2\n",
        "2014-01-04  0.423249  1.528061  1.277524  0.398182  -3\n",
        "2014-01-05  2.006278  0.916812  1.372936 -0.117982   4\n",
        "2014-01-06  0.510593  0.887778  1.253501 -1.447444  -5\n",
        "\n",
        "[6 rows x 5 columns]"
       ]
      }
     ],
     "prompt_number": 77
    },
    {
     "cell_type": "code",
     "collapsed": false,
     "input": [
      "#Setting new column aligns data by index\n",
      "s1 = pd.Series([1,2,3,4,5,6],index=pd.date_range('20140102',periods=6))"
     ],
     "language": "python",
     "metadata": {
      "slideshow": {
       "slide_type": "subslide"
      }
     },
     "outputs": [],
     "prompt_number": 58
    },
    {
     "cell_type": "code",
     "collapsed": false,
     "input": [
      "s1"
     ],
     "language": "python",
     "metadata": {
      "slideshow": {
       "slide_type": "fragment"
      }
     },
     "outputs": [
      {
       "metadata": {},
       "output_type": "pyout",
       "prompt_number": 59,
       "text": [
        "2014-01-02    1\n",
        "2014-01-03    2\n",
        "2014-01-04    3\n",
        "2014-01-05    4\n",
        "2014-01-06    5\n",
        "2014-01-07    6\n",
        "Freq: D, dtype: int64"
       ]
      }
     ],
     "prompt_number": 59
    },
    {
     "cell_type": "code",
     "collapsed": false,
     "input": [
      "df['F'] = s1"
     ],
     "language": "python",
     "metadata": {
      "slideshow": {
       "slide_type": "fragment"
      }
     },
     "outputs": [],
     "prompt_number": 60
    },
    {
     "cell_type": "code",
     "collapsed": false,
     "input": [
      "df"
     ],
     "language": "python",
     "metadata": {
      "slideshow": {
       "slide_type": "fragment"
      }
     },
     "outputs": [
      {
       "html": [
        "<div style=\"max-height:1000px;max-width:1500px;overflow:auto;\">\n",
        "<table border=\"1\" class=\"dataframe\">\n",
        "  <thead>\n",
        "    <tr style=\"text-align: right;\">\n",
        "      <th></th>\n",
        "      <th>A</th>\n",
        "      <th>B</th>\n",
        "      <th>C</th>\n",
        "      <th>D</th>\n",
        "      <th>F</th>\n",
        "    </tr>\n",
        "  </thead>\n",
        "  <tbody>\n",
        "    <tr>\n",
        "      <th>2014-01-01</th>\n",
        "      <td>-0.253154</td>\n",
        "      <td>-0.268236</td>\n",
        "      <td>-1.087063</td>\n",
        "      <td>-0.193307</td>\n",
        "      <td>NaN</td>\n",
        "    </tr>\n",
        "    <tr>\n",
        "      <th>2014-01-02</th>\n",
        "      <td>-0.301550</td>\n",
        "      <td>-0.678438</td>\n",
        "      <td> 1.007827</td>\n",
        "      <td>-0.235908</td>\n",
        "      <td>  1</td>\n",
        "    </tr>\n",
        "    <tr>\n",
        "      <th>2014-01-03</th>\n",
        "      <td>-2.626089</td>\n",
        "      <td> 0.841060</td>\n",
        "      <td> 0.867854</td>\n",
        "      <td> 0.011942</td>\n",
        "      <td>  2</td>\n",
        "    </tr>\n",
        "    <tr>\n",
        "      <th>2014-01-04</th>\n",
        "      <td>-0.423249</td>\n",
        "      <td>-1.528061</td>\n",
        "      <td>-1.277524</td>\n",
        "      <td>-0.398182</td>\n",
        "      <td>  3</td>\n",
        "    </tr>\n",
        "    <tr>\n",
        "      <th>2014-01-05</th>\n",
        "      <td> 2.006278</td>\n",
        "      <td> 0.916812</td>\n",
        "      <td> 1.372936</td>\n",
        "      <td>-0.117982</td>\n",
        "      <td>  4</td>\n",
        "    </tr>\n",
        "    <tr>\n",
        "      <th>2014-01-06</th>\n",
        "      <td>-0.510593</td>\n",
        "      <td>-0.887778</td>\n",
        "      <td>-1.253501</td>\n",
        "      <td> 1.447444</td>\n",
        "      <td>  5</td>\n",
        "    </tr>\n",
        "  </tbody>\n",
        "</table>\n",
        "<p>6 rows \u00d7 5 columns</p>\n",
        "</div>"
       ],
       "metadata": {},
       "output_type": "pyout",
       "prompt_number": 61,
       "text": [
        "                   A         B         C         D   F\n",
        "2014-01-01 -0.253154 -0.268236 -1.087063 -0.193307 NaN\n",
        "2014-01-02 -0.301550 -0.678438  1.007827 -0.235908   1\n",
        "2014-01-03 -2.626089  0.841060  0.867854  0.011942   2\n",
        "2014-01-04 -0.423249 -1.528061 -1.277524 -0.398182   3\n",
        "2014-01-05  2.006278  0.916812  1.372936 -0.117982   4\n",
        "2014-01-06 -0.510593 -0.887778 -1.253501  1.447444   5\n",
        "\n",
        "[6 rows x 5 columns]"
       ]
      }
     ],
     "prompt_number": 61
    },
    {
     "cell_type": "markdown",
     "metadata": {
      "slideshow": {
       "slide_type": "slide"
      }
     },
     "source": [
      "### Missing Data"
     ]
    },
    {
     "cell_type": "code",
     "collapsed": false,
     "input": [
      "# Add a column with missing data\n",
      "df1 = df.reindex(index=dates[0:4],columns=list(df.columns) + ['E'])"
     ],
     "language": "python",
     "metadata": {
      "slideshow": {
       "slide_type": "subslide"
      }
     },
     "outputs": [],
     "prompt_number": 90
    },
    {
     "cell_type": "code",
     "collapsed": false,
     "input": [
      "df1.loc[dates[0]:dates[1],'E'] = 1"
     ],
     "language": "python",
     "metadata": {
      "slideshow": {
       "slide_type": "subslide"
      }
     },
     "outputs": [],
     "prompt_number": 88
    },
    {
     "cell_type": "code",
     "collapsed": false,
     "input": [
      "df1"
     ],
     "language": "python",
     "metadata": {
      "slideshow": {
       "slide_type": "fragment"
      }
     },
     "outputs": [
      {
       "html": [
        "<div style=\"max-height:1000px;max-width:1500px;overflow:auto;\">\n",
        "<table border=\"1\" class=\"dataframe\">\n",
        "  <thead>\n",
        "    <tr style=\"text-align: right;\">\n",
        "      <th></th>\n",
        "      <th>A</th>\n",
        "      <th>B</th>\n",
        "      <th>C</th>\n",
        "      <th>D</th>\n",
        "      <th>F</th>\n",
        "      <th>E</th>\n",
        "    </tr>\n",
        "  </thead>\n",
        "  <tbody>\n",
        "    <tr>\n",
        "      <th>2014-01-01</th>\n",
        "      <td>-0.253154</td>\n",
        "      <td>-0.268236</td>\n",
        "      <td>-1.087063</td>\n",
        "      <td>-0.193307</td>\n",
        "      <td>NaN</td>\n",
        "      <td>NaN</td>\n",
        "    </tr>\n",
        "    <tr>\n",
        "      <th>2014-01-02</th>\n",
        "      <td>-0.301550</td>\n",
        "      <td>-0.678438</td>\n",
        "      <td> 1.007827</td>\n",
        "      <td>-0.235908</td>\n",
        "      <td>  1</td>\n",
        "      <td>NaN</td>\n",
        "    </tr>\n",
        "    <tr>\n",
        "      <th>2014-01-03</th>\n",
        "      <td>-2.626089</td>\n",
        "      <td> 0.841060</td>\n",
        "      <td> 0.867854</td>\n",
        "      <td> 0.011942</td>\n",
        "      <td>  2</td>\n",
        "      <td>NaN</td>\n",
        "    </tr>\n",
        "    <tr>\n",
        "      <th>2014-01-04</th>\n",
        "      <td>-0.423249</td>\n",
        "      <td>-1.528061</td>\n",
        "      <td>-1.277524</td>\n",
        "      <td>-0.398182</td>\n",
        "      <td>  3</td>\n",
        "      <td>NaN</td>\n",
        "    </tr>\n",
        "  </tbody>\n",
        "</table>\n",
        "<p>4 rows \u00d7 6 columns</p>\n",
        "</div>"
       ],
       "metadata": {},
       "output_type": "pyout",
       "prompt_number": 91,
       "text": [
        "                   A         B         C         D   F   E\n",
        "2014-01-01 -0.253154 -0.268236 -1.087063 -0.193307 NaN NaN\n",
        "2014-01-02 -0.301550 -0.678438  1.007827 -0.235908   1 NaN\n",
        "2014-01-03 -2.626089  0.841060  0.867854  0.011942   2 NaN\n",
        "2014-01-04 -0.423249 -1.528061 -1.277524 -0.398182   3 NaN\n",
        "\n",
        "[4 rows x 6 columns]"
       ]
      }
     ],
     "prompt_number": 91
    },
    {
     "cell_type": "code",
     "collapsed": false,
     "input": [
      "# find where values are null\n",
      "pd.isnull(df1)"
     ],
     "language": "python",
     "metadata": {
      "slideshow": {
       "slide_type": "subslide"
      }
     },
     "outputs": [
      {
       "html": [
        "<div style=\"max-height:1000px;max-width:1500px;overflow:auto;\">\n",
        "<table border=\"1\" class=\"dataframe\">\n",
        "  <thead>\n",
        "    <tr style=\"text-align: right;\">\n",
        "      <th></th>\n",
        "      <th>A</th>\n",
        "      <th>B</th>\n",
        "      <th>C</th>\n",
        "      <th>D</th>\n",
        "      <th>F</th>\n",
        "      <th>E</th>\n",
        "    </tr>\n",
        "  </thead>\n",
        "  <tbody>\n",
        "    <tr>\n",
        "      <th>2014-01-01</th>\n",
        "      <td> False</td>\n",
        "      <td> False</td>\n",
        "      <td> False</td>\n",
        "      <td> False</td>\n",
        "      <td>  True</td>\n",
        "      <td> True</td>\n",
        "    </tr>\n",
        "    <tr>\n",
        "      <th>2014-01-02</th>\n",
        "      <td> False</td>\n",
        "      <td> False</td>\n",
        "      <td> False</td>\n",
        "      <td> False</td>\n",
        "      <td> False</td>\n",
        "      <td> True</td>\n",
        "    </tr>\n",
        "    <tr>\n",
        "      <th>2014-01-03</th>\n",
        "      <td> False</td>\n",
        "      <td> False</td>\n",
        "      <td> False</td>\n",
        "      <td> False</td>\n",
        "      <td> False</td>\n",
        "      <td> True</td>\n",
        "    </tr>\n",
        "    <tr>\n",
        "      <th>2014-01-04</th>\n",
        "      <td> False</td>\n",
        "      <td> False</td>\n",
        "      <td> False</td>\n",
        "      <td> False</td>\n",
        "      <td> False</td>\n",
        "      <td> True</td>\n",
        "    </tr>\n",
        "  </tbody>\n",
        "</table>\n",
        "<p>4 rows \u00d7 6 columns</p>\n",
        "</div>"
       ],
       "metadata": {},
       "output_type": "pyout",
       "prompt_number": 92,
       "text": [
        "                A      B      C      D      F     E\n",
        "2014-01-01  False  False  False  False   True  True\n",
        "2014-01-02  False  False  False  False  False  True\n",
        "2014-01-03  False  False  False  False  False  True\n",
        "2014-01-04  False  False  False  False  False  True\n",
        "\n",
        "[4 rows x 6 columns]"
       ]
      }
     ],
     "prompt_number": 92
    },
    {
     "cell_type": "markdown",
     "metadata": {
      "slideshow": {
       "slide_type": "slide"
      }
     },
     "source": [
      "### Operations"
     ]
    },
    {
     "cell_type": "code",
     "collapsed": false,
     "input": [
      "df.describe()"
     ],
     "language": "python",
     "metadata": {
      "slideshow": {
       "slide_type": "subslide"
      }
     },
     "outputs": [
      {
       "html": [
        "<div style=\"max-height:1000px;max-width:1500px;overflow:auto;\">\n",
        "<table border=\"1\" class=\"dataframe\">\n",
        "  <thead>\n",
        "    <tr style=\"text-align: right;\">\n",
        "      <th></th>\n",
        "      <th>A</th>\n",
        "      <th>B</th>\n",
        "      <th>C</th>\n",
        "      <th>D</th>\n",
        "      <th>F</th>\n",
        "    </tr>\n",
        "  </thead>\n",
        "  <tbody>\n",
        "    <tr>\n",
        "      <th>count</th>\n",
        "      <td> 6.000000</td>\n",
        "      <td> 6.000000</td>\n",
        "      <td> 6.000000</td>\n",
        "      <td> 6.000000</td>\n",
        "      <td> 5.000000</td>\n",
        "    </tr>\n",
        "    <tr>\n",
        "      <th>mean</th>\n",
        "      <td>-0.351393</td>\n",
        "      <td>-0.267440</td>\n",
        "      <td>-0.061578</td>\n",
        "      <td> 0.085668</td>\n",
        "      <td> 3.000000</td>\n",
        "    </tr>\n",
        "    <tr>\n",
        "      <th>std</th>\n",
        "      <td> 1.468026</td>\n",
        "      <td> 0.977152</td>\n",
        "      <td> 1.266185</td>\n",
        "      <td> 0.680690</td>\n",
        "      <td> 1.581139</td>\n",
        "    </tr>\n",
        "    <tr>\n",
        "      <th>min</th>\n",
        "      <td>-2.626089</td>\n",
        "      <td>-1.528061</td>\n",
        "      <td>-1.277524</td>\n",
        "      <td>-0.398182</td>\n",
        "      <td> 1.000000</td>\n",
        "    </tr>\n",
        "    <tr>\n",
        "      <th>25%</th>\n",
        "      <td>-0.488757</td>\n",
        "      <td>-0.835443</td>\n",
        "      <td>-1.211891</td>\n",
        "      <td>-0.225258</td>\n",
        "      <td> 2.000000</td>\n",
        "    </tr>\n",
        "    <tr>\n",
        "      <th>50%</th>\n",
        "      <td>-0.362399</td>\n",
        "      <td>-0.473337</td>\n",
        "      <td>-0.109605</td>\n",
        "      <td>-0.155644</td>\n",
        "      <td> 3.000000</td>\n",
        "    </tr>\n",
        "    <tr>\n",
        "      <th>75%</th>\n",
        "      <td>-0.265253</td>\n",
        "      <td> 0.563736</td>\n",
        "      <td> 0.972834</td>\n",
        "      <td>-0.020539</td>\n",
        "      <td> 4.000000</td>\n",
        "    </tr>\n",
        "    <tr>\n",
        "      <th>max</th>\n",
        "      <td> 2.006278</td>\n",
        "      <td> 0.916812</td>\n",
        "      <td> 1.372936</td>\n",
        "      <td> 1.447444</td>\n",
        "      <td> 5.000000</td>\n",
        "    </tr>\n",
        "  </tbody>\n",
        "</table>\n",
        "<p>8 rows \u00d7 5 columns</p>\n",
        "</div>"
       ],
       "metadata": {},
       "output_type": "pyout",
       "prompt_number": 94,
       "text": [
        "              A         B         C         D         F\n",
        "count  6.000000  6.000000  6.000000  6.000000  5.000000\n",
        "mean  -0.351393 -0.267440 -0.061578  0.085668  3.000000\n",
        "std    1.468026  0.977152  1.266185  0.680690  1.581139\n",
        "min   -2.626089 -1.528061 -1.277524 -0.398182  1.000000\n",
        "25%   -0.488757 -0.835443 -1.211891 -0.225258  2.000000\n",
        "50%   -0.362399 -0.473337 -0.109605 -0.155644  3.000000\n",
        "75%   -0.265253  0.563736  0.972834 -0.020539  4.000000\n",
        "max    2.006278  0.916812  1.372936  1.447444  5.000000\n",
        "\n",
        "[8 rows x 5 columns]"
       ]
      }
     ],
     "prompt_number": 94
    },
    {
     "cell_type": "code",
     "collapsed": false,
     "input": [
      "df.mean(),df.mean(1) # Operation on two different axes"
     ],
     "language": "python",
     "metadata": {
      "slideshow": {
       "slide_type": "subslide"
      }
     },
     "outputs": [
      {
       "metadata": {},
       "output_type": "pyout",
       "prompt_number": 95,
       "text": [
        "(A   -0.351393\n",
        " B   -0.267440\n",
        " C   -0.061578\n",
        " D    0.085668\n",
        " F    3.000000\n",
        " dtype: float64, 2014-01-01   -0.450440\n",
        " 2014-01-02    0.158386\n",
        " 2014-01-03    0.218953\n",
        " 2014-01-04   -0.125403\n",
        " 2014-01-05    1.635609\n",
        " 2014-01-06    0.759114\n",
        " Freq: D, dtype: float64)"
       ]
      }
     ],
     "prompt_number": 95
    },
    {
     "cell_type": "markdown",
     "metadata": {
      "slideshow": {
       "slide_type": "slide"
      }
     },
     "source": [
      "### Applying functions"
     ]
    },
    {
     "cell_type": "code",
     "collapsed": false,
     "input": [
      "df"
     ],
     "language": "python",
     "metadata": {
      "slideshow": {
       "slide_type": "subslide"
      }
     },
     "outputs": [
      {
       "html": [
        "<div style=\"max-height:1000px;max-width:1500px;overflow:auto;\">\n",
        "<table border=\"1\" class=\"dataframe\">\n",
        "  <thead>\n",
        "    <tr style=\"text-align: right;\">\n",
        "      <th></th>\n",
        "      <th>A</th>\n",
        "      <th>B</th>\n",
        "      <th>C</th>\n",
        "      <th>D</th>\n",
        "      <th>F</th>\n",
        "    </tr>\n",
        "  </thead>\n",
        "  <tbody>\n",
        "    <tr>\n",
        "      <th>2014-01-01</th>\n",
        "      <td>-0.253154</td>\n",
        "      <td>-0.268236</td>\n",
        "      <td>-1.087063</td>\n",
        "      <td>-0.193307</td>\n",
        "      <td>NaN</td>\n",
        "    </tr>\n",
        "    <tr>\n",
        "      <th>2014-01-02</th>\n",
        "      <td>-0.301550</td>\n",
        "      <td>-0.678438</td>\n",
        "      <td> 1.007827</td>\n",
        "      <td>-0.235908</td>\n",
        "      <td>  1</td>\n",
        "    </tr>\n",
        "    <tr>\n",
        "      <th>2014-01-03</th>\n",
        "      <td>-2.626089</td>\n",
        "      <td> 0.841060</td>\n",
        "      <td> 0.867854</td>\n",
        "      <td> 0.011942</td>\n",
        "      <td>  2</td>\n",
        "    </tr>\n",
        "    <tr>\n",
        "      <th>2014-01-04</th>\n",
        "      <td>-0.423249</td>\n",
        "      <td>-1.528061</td>\n",
        "      <td>-1.277524</td>\n",
        "      <td>-0.398182</td>\n",
        "      <td>  3</td>\n",
        "    </tr>\n",
        "    <tr>\n",
        "      <th>2014-01-05</th>\n",
        "      <td> 2.006278</td>\n",
        "      <td> 0.916812</td>\n",
        "      <td> 1.372936</td>\n",
        "      <td>-0.117982</td>\n",
        "      <td>  4</td>\n",
        "    </tr>\n",
        "    <tr>\n",
        "      <th>2014-01-06</th>\n",
        "      <td>-0.510593</td>\n",
        "      <td>-0.887778</td>\n",
        "      <td>-1.253501</td>\n",
        "      <td> 1.447444</td>\n",
        "      <td>  5</td>\n",
        "    </tr>\n",
        "  </tbody>\n",
        "</table>\n",
        "<p>6 rows \u00d7 5 columns</p>\n",
        "</div>"
       ],
       "metadata": {},
       "output_type": "pyout",
       "prompt_number": 96,
       "text": [
        "                   A         B         C         D   F\n",
        "2014-01-01 -0.253154 -0.268236 -1.087063 -0.193307 NaN\n",
        "2014-01-02 -0.301550 -0.678438  1.007827 -0.235908   1\n",
        "2014-01-03 -2.626089  0.841060  0.867854  0.011942   2\n",
        "2014-01-04 -0.423249 -1.528061 -1.277524 -0.398182   3\n",
        "2014-01-05  2.006278  0.916812  1.372936 -0.117982   4\n",
        "2014-01-06 -0.510593 -0.887778 -1.253501  1.447444   5\n",
        "\n",
        "[6 rows x 5 columns]"
       ]
      }
     ],
     "prompt_number": 96
    },
    {
     "cell_type": "code",
     "collapsed": false,
     "input": [
      "df.apply(np.cumsum)"
     ],
     "language": "python",
     "metadata": {
      "slideshow": {
       "slide_type": "fragment"
      }
     },
     "outputs": [
      {
       "html": [
        "<div style=\"max-height:1000px;max-width:1500px;overflow:auto;\">\n",
        "<table border=\"1\" class=\"dataframe\">\n",
        "  <thead>\n",
        "    <tr style=\"text-align: right;\">\n",
        "      <th></th>\n",
        "      <th>A</th>\n",
        "      <th>B</th>\n",
        "      <th>C</th>\n",
        "      <th>D</th>\n",
        "      <th>F</th>\n",
        "    </tr>\n",
        "  </thead>\n",
        "  <tbody>\n",
        "    <tr>\n",
        "      <th>2014-01-01</th>\n",
        "      <td>-0.253154</td>\n",
        "      <td>-0.268236</td>\n",
        "      <td>-1.087063</td>\n",
        "      <td>-0.193307</td>\n",
        "      <td>NaN</td>\n",
        "    </tr>\n",
        "    <tr>\n",
        "      <th>2014-01-02</th>\n",
        "      <td>-0.554704</td>\n",
        "      <td>-0.946674</td>\n",
        "      <td>-0.079236</td>\n",
        "      <td>-0.429215</td>\n",
        "      <td>  1</td>\n",
        "    </tr>\n",
        "    <tr>\n",
        "      <th>2014-01-03</th>\n",
        "      <td>-3.180794</td>\n",
        "      <td>-0.105614</td>\n",
        "      <td> 0.788618</td>\n",
        "      <td>-0.417274</td>\n",
        "      <td>  3</td>\n",
        "    </tr>\n",
        "    <tr>\n",
        "      <th>2014-01-04</th>\n",
        "      <td>-3.604042</td>\n",
        "      <td>-1.633675</td>\n",
        "      <td>-0.488906</td>\n",
        "      <td>-0.815456</td>\n",
        "      <td>  6</td>\n",
        "    </tr>\n",
        "    <tr>\n",
        "      <th>2014-01-05</th>\n",
        "      <td>-1.597764</td>\n",
        "      <td>-0.716863</td>\n",
        "      <td> 0.884030</td>\n",
        "      <td>-0.933438</td>\n",
        "      <td> 10</td>\n",
        "    </tr>\n",
        "    <tr>\n",
        "      <th>2014-01-06</th>\n",
        "      <td>-2.108357</td>\n",
        "      <td>-1.604641</td>\n",
        "      <td>-0.369470</td>\n",
        "      <td> 0.514006</td>\n",
        "      <td> 15</td>\n",
        "    </tr>\n",
        "  </tbody>\n",
        "</table>\n",
        "<p>6 rows \u00d7 5 columns</p>\n",
        "</div>"
       ],
       "metadata": {},
       "output_type": "pyout",
       "prompt_number": 97,
       "text": [
        "                   A         B         C         D   F\n",
        "2014-01-01 -0.253154 -0.268236 -1.087063 -0.193307 NaN\n",
        "2014-01-02 -0.554704 -0.946674 -0.079236 -0.429215   1\n",
        "2014-01-03 -3.180794 -0.105614  0.788618 -0.417274   3\n",
        "2014-01-04 -3.604042 -1.633675 -0.488906 -0.815456   6\n",
        "2014-01-05 -1.597764 -0.716863  0.884030 -0.933438  10\n",
        "2014-01-06 -2.108357 -1.604641 -0.369470  0.514006  15\n",
        "\n",
        "[6 rows x 5 columns]"
       ]
      }
     ],
     "prompt_number": 97
    },
    {
     "cell_type": "code",
     "collapsed": true,
     "input": [
      "df.apply(lambda x: x.max() - x.min())"
     ],
     "language": "python",
     "metadata": {
      "slideshow": {
       "slide_type": "fragment"
      }
     },
     "outputs": [
      {
       "metadata": {},
       "output_type": "pyout",
       "prompt_number": 98,
       "text": [
        "A    4.632368\n",
        "B    2.444872\n",
        "C    2.650460\n",
        "D    1.845626\n",
        "F    4.000000\n",
        "dtype: float64"
       ]
      }
     ],
     "prompt_number": 98
    },
    {
     "cell_type": "code",
     "collapsed": false,
     "input": [
      "# Built in string methods\n",
      "s = pd.Series(['A', 'B', 'C', 'Aaba', 'Baca', np.nan, 'CABA', 'dog', 'cat'])\n",
      "s.str.lower()"
     ],
     "language": "python",
     "metadata": {
      "slideshow": {
       "slide_type": "subslide"
      }
     },
     "outputs": [
      {
       "metadata": {},
       "output_type": "pyout",
       "prompt_number": 112,
       "text": [
        "0       a\n",
        "1       b\n",
        "2       c\n",
        "3    aaba\n",
        "4    baca\n",
        "5     NaN\n",
        "6    caba\n",
        "7     dog\n",
        "8     cat\n",
        "dtype: object"
       ]
      }
     ],
     "prompt_number": 112
    },
    {
     "cell_type": "markdown",
     "metadata": {
      "slideshow": {
       "slide_type": "subslide"
      }
     },
     "source": [
      "###Merge"
     ]
    },
    {
     "cell_type": "code",
     "collapsed": false,
     "input": [
      "np.random.randn(10,4)"
     ],
     "language": "python",
     "metadata": {
      "slideshow": {
       "slide_type": "subslide"
      }
     },
     "outputs": [
      {
       "metadata": {},
       "output_type": "pyout",
       "prompt_number": 115,
       "text": [
        "array([[ 0.419978  ,  1.73704299,  0.17318799, -0.75074372],\n",
        "       [-1.61174587,  0.22778704, -0.63211871, -0.7759542 ],\n",
        "       [-0.33070523,  0.83760083,  0.30315227,  0.09570726],\n",
        "       [ 0.38710114, -2.35224895, -1.07363794, -1.30861029],\n",
        "       [ 1.18528766, -1.54307393,  0.66166635, -0.84645691],\n",
        "       [-0.0973274 , -1.7631015 , -1.33123525,  0.03352387],\n",
        "       [ 0.85659051,  0.62370029, -1.56782642, -0.87856158],\n",
        "       [-0.66995879,  0.75791672, -1.13446516,  0.83020753],\n",
        "       [-1.73747178, -1.01644585,  0.79366733, -0.0354989 ],\n",
        "       [ 1.35018135,  0.58862714, -1.02706702, -0.95973908]])"
       ]
      }
     ],
     "prompt_number": 115
    },
    {
     "cell_type": "code",
     "collapsed": false,
     "input": [
      "#Concatenating pandas objects together\n",
      "df = pd.DataFrame(np.random.randn(10,4))\n",
      "df"
     ],
     "language": "python",
     "metadata": {
      "slideshow": {
       "slide_type": "subslide"
      }
     },
     "outputs": [
      {
       "html": [
        "<div style=\"max-height:1000px;max-width:1500px;overflow:auto;\">\n",
        "<table border=\"1\" class=\"dataframe\">\n",
        "  <thead>\n",
        "    <tr style=\"text-align: right;\">\n",
        "      <th></th>\n",
        "      <th>0</th>\n",
        "      <th>1</th>\n",
        "      <th>2</th>\n",
        "      <th>3</th>\n",
        "    </tr>\n",
        "  </thead>\n",
        "  <tbody>\n",
        "    <tr>\n",
        "      <th>0</th>\n",
        "      <td>-0.784242</td>\n",
        "      <td> 0.473029</td>\n",
        "      <td> 2.677439</td>\n",
        "      <td>-2.051175</td>\n",
        "    </tr>\n",
        "    <tr>\n",
        "      <th>1</th>\n",
        "      <td>-0.565172</td>\n",
        "      <td> 0.795658</td>\n",
        "      <td>-0.231571</td>\n",
        "      <td> 0.761041</td>\n",
        "    </tr>\n",
        "    <tr>\n",
        "      <th>2</th>\n",
        "      <td>-0.801115</td>\n",
        "      <td>-0.793281</td>\n",
        "      <td> 0.761390</td>\n",
        "      <td> 1.086962</td>\n",
        "    </tr>\n",
        "    <tr>\n",
        "      <th>3</th>\n",
        "      <td>-0.922291</td>\n",
        "      <td> 0.428422</td>\n",
        "      <td> 0.594546</td>\n",
        "      <td> 0.746282</td>\n",
        "    </tr>\n",
        "    <tr>\n",
        "      <th>4</th>\n",
        "      <td>-0.384992</td>\n",
        "      <td>-0.148291</td>\n",
        "      <td>-0.206600</td>\n",
        "      <td> 1.150683</td>\n",
        "    </tr>\n",
        "    <tr>\n",
        "      <th>5</th>\n",
        "      <td>-1.217881</td>\n",
        "      <td> 1.346268</td>\n",
        "      <td>-0.974419</td>\n",
        "      <td>-0.949488</td>\n",
        "    </tr>\n",
        "    <tr>\n",
        "      <th>6</th>\n",
        "      <td> 0.429639</td>\n",
        "      <td>-0.142367</td>\n",
        "      <td>-1.312736</td>\n",
        "      <td> 1.128252</td>\n",
        "    </tr>\n",
        "    <tr>\n",
        "      <th>7</th>\n",
        "      <td>-1.578639</td>\n",
        "      <td>-0.942848</td>\n",
        "      <td>-0.823177</td>\n",
        "      <td>-0.170610</td>\n",
        "    </tr>\n",
        "    <tr>\n",
        "      <th>8</th>\n",
        "      <td>-1.931139</td>\n",
        "      <td> 0.850927</td>\n",
        "      <td> 0.217999</td>\n",
        "      <td> 1.404066</td>\n",
        "    </tr>\n",
        "    <tr>\n",
        "      <th>9</th>\n",
        "      <td> 0.944147</td>\n",
        "      <td> 0.299052</td>\n",
        "      <td> 1.057390</td>\n",
        "      <td> 0.522180</td>\n",
        "    </tr>\n",
        "  </tbody>\n",
        "</table>\n",
        "<p>10 rows \u00d7 4 columns</p>\n",
        "</div>"
       ],
       "metadata": {},
       "output_type": "pyout",
       "prompt_number": 117,
       "text": [
        "          0         1         2         3\n",
        "0 -0.784242  0.473029  2.677439 -2.051175\n",
        "1 -0.565172  0.795658 -0.231571  0.761041\n",
        "2 -0.801115 -0.793281  0.761390  1.086962\n",
        "3 -0.922291  0.428422  0.594546  0.746282\n",
        "4 -0.384992 -0.148291 -0.206600  1.150683\n",
        "5 -1.217881  1.346268 -0.974419 -0.949488\n",
        "6  0.429639 -0.142367 -1.312736  1.128252\n",
        "7 -1.578639 -0.942848 -0.823177 -0.170610\n",
        "8 -1.931139  0.850927  0.217999  1.404066\n",
        "9  0.944147  0.299052  1.057390  0.522180\n",
        "\n",
        "[10 rows x 4 columns]"
       ]
      }
     ],
     "prompt_number": 117
    },
    {
     "cell_type": "code",
     "collapsed": false,
     "input": [
      "# Break it into pieces\n",
      "pieces = [df[:3], df[3:7],df[7:]]\n",
      "pieces"
     ],
     "language": "python",
     "metadata": {
      "slideshow": {
       "slide_type": "subslide"
      }
     },
     "outputs": [
      {
       "metadata": {},
       "output_type": "pyout",
       "prompt_number": 119,
       "text": [
        "[          0         1         2         3\n",
        " 0 -0.784242  0.473029  2.677439 -2.051175\n",
        " 1 -0.565172  0.795658 -0.231571  0.761041\n",
        " 2 -0.801115 -0.793281  0.761390  1.086962\n",
        " \n",
        " [3 rows x 4 columns],           0         1         2         3\n",
        " 3 -0.922291  0.428422  0.594546  0.746282\n",
        " 4 -0.384992 -0.148291 -0.206600  1.150683\n",
        " 5 -1.217881  1.346268 -0.974419 -0.949488\n",
        " 6  0.429639 -0.142367 -1.312736  1.128252\n",
        " \n",
        " [4 rows x 4 columns],           0         1         2         3\n",
        " 7 -1.578639 -0.942848 -0.823177 -0.170610\n",
        " 8 -1.931139  0.850927  0.217999  1.404066\n",
        " 9  0.944147  0.299052  1.057390  0.522180\n",
        " \n",
        " [3 rows x 4 columns]]"
       ]
      }
     ],
     "prompt_number": 119
    },
    {
     "cell_type": "code",
     "collapsed": false,
     "input": [
      "pd.concat(pieces[1:])"
     ],
     "language": "python",
     "metadata": {
      "slideshow": {
       "slide_type": "fragment"
      }
     },
     "outputs": [
      {
       "html": [
        "<div style=\"max-height:1000px;max-width:1500px;overflow:auto;\">\n",
        "<table border=\"1\" class=\"dataframe\">\n",
        "  <thead>\n",
        "    <tr style=\"text-align: right;\">\n",
        "      <th></th>\n",
        "      <th>0</th>\n",
        "      <th>1</th>\n",
        "      <th>2</th>\n",
        "      <th>3</th>\n",
        "    </tr>\n",
        "  </thead>\n",
        "  <tbody>\n",
        "    <tr>\n",
        "      <th>3</th>\n",
        "      <td>-0.922291</td>\n",
        "      <td> 0.428422</td>\n",
        "      <td> 0.594546</td>\n",
        "      <td> 0.746282</td>\n",
        "    </tr>\n",
        "    <tr>\n",
        "      <th>4</th>\n",
        "      <td>-0.384992</td>\n",
        "      <td>-0.148291</td>\n",
        "      <td>-0.206600</td>\n",
        "      <td> 1.150683</td>\n",
        "    </tr>\n",
        "    <tr>\n",
        "      <th>5</th>\n",
        "      <td>-1.217881</td>\n",
        "      <td> 1.346268</td>\n",
        "      <td>-0.974419</td>\n",
        "      <td>-0.949488</td>\n",
        "    </tr>\n",
        "    <tr>\n",
        "      <th>6</th>\n",
        "      <td> 0.429639</td>\n",
        "      <td>-0.142367</td>\n",
        "      <td>-1.312736</td>\n",
        "      <td> 1.128252</td>\n",
        "    </tr>\n",
        "    <tr>\n",
        "      <th>7</th>\n",
        "      <td>-1.578639</td>\n",
        "      <td>-0.942848</td>\n",
        "      <td>-0.823177</td>\n",
        "      <td>-0.170610</td>\n",
        "    </tr>\n",
        "    <tr>\n",
        "      <th>8</th>\n",
        "      <td>-1.931139</td>\n",
        "      <td> 0.850927</td>\n",
        "      <td> 0.217999</td>\n",
        "      <td> 1.404066</td>\n",
        "    </tr>\n",
        "    <tr>\n",
        "      <th>9</th>\n",
        "      <td> 0.944147</td>\n",
        "      <td> 0.299052</td>\n",
        "      <td> 1.057390</td>\n",
        "      <td> 0.522180</td>\n",
        "    </tr>\n",
        "  </tbody>\n",
        "</table>\n",
        "<p>7 rows \u00d7 4 columns</p>\n",
        "</div>"
       ],
       "metadata": {},
       "output_type": "pyout",
       "prompt_number": 122,
       "text": [
        "          0         1         2         3\n",
        "3 -0.922291  0.428422  0.594546  0.746282\n",
        "4 -0.384992 -0.148291 -0.206600  1.150683\n",
        "5 -1.217881  1.346268 -0.974419 -0.949488\n",
        "6  0.429639 -0.142367 -1.312736  1.128252\n",
        "7 -1.578639 -0.942848 -0.823177 -0.170610\n",
        "8 -1.931139  0.850927  0.217999  1.404066\n",
        "9  0.944147  0.299052  1.057390  0.522180\n",
        "\n",
        "[7 rows x 4 columns]"
       ]
      }
     ],
     "prompt_number": 122
    },
    {
     "cell_type": "code",
     "collapsed": false,
     "input": [
      "# Also can \"Join\" and \"Append\"\n"
     ],
     "language": "python",
     "metadata": {
      "slideshow": {
       "slide_type": "fragment"
      }
     },
     "outputs": []
    },
    {
     "cell_type": "markdown",
     "metadata": {
      "slideshow": {
       "slide_type": "subslide"
      }
     },
     "source": [
      "###Grouping\n"
     ]
    },
    {
     "cell_type": "code",
     "collapsed": false,
     "input": [
      "df = pd.DataFrame({'A' : ['foo', 'bar', 'foo', 'bar',\n",
      "                       'foo', 'bar', 'foo', 'foo'],\n",
      "                       'B' : ['one', 'one', 'two', 'three',\n",
      "                             'two', 'two', 'one', 'three'],\n",
      "                       'C' : np.random.randn(8),\n",
      "                       'D' : np.random.randn(8)})"
     ],
     "language": "python",
     "metadata": {
      "slideshow": {
       "slide_type": "subslide"
      }
     },
     "outputs": [],
     "prompt_number": 124
    },
    {
     "cell_type": "code",
     "collapsed": false,
     "input": [
      "df"
     ],
     "language": "python",
     "metadata": {
      "slideshow": {
       "slide_type": "fragment"
      }
     },
     "outputs": [
      {
       "html": [
        "<div style=\"max-height:1000px;max-width:1500px;overflow:auto;\">\n",
        "<table border=\"1\" class=\"dataframe\">\n",
        "  <thead>\n",
        "    <tr style=\"text-align: right;\">\n",
        "      <th></th>\n",
        "      <th>A</th>\n",
        "      <th>B</th>\n",
        "      <th>C</th>\n",
        "      <th>D</th>\n",
        "    </tr>\n",
        "  </thead>\n",
        "  <tbody>\n",
        "    <tr>\n",
        "      <th>0</th>\n",
        "      <td> foo</td>\n",
        "      <td>   one</td>\n",
        "      <td> 0.657802</td>\n",
        "      <td>-1.068971</td>\n",
        "    </tr>\n",
        "    <tr>\n",
        "      <th>1</th>\n",
        "      <td> bar</td>\n",
        "      <td>   one</td>\n",
        "      <td>-0.319304</td>\n",
        "      <td>-0.433808</td>\n",
        "    </tr>\n",
        "    <tr>\n",
        "      <th>2</th>\n",
        "      <td> foo</td>\n",
        "      <td>   two</td>\n",
        "      <td> 2.126808</td>\n",
        "      <td> 0.409345</td>\n",
        "    </tr>\n",
        "    <tr>\n",
        "      <th>3</th>\n",
        "      <td> bar</td>\n",
        "      <td> three</td>\n",
        "      <td> 1.857345</td>\n",
        "      <td> 0.387510</td>\n",
        "    </tr>\n",
        "    <tr>\n",
        "      <th>4</th>\n",
        "      <td> foo</td>\n",
        "      <td>   two</td>\n",
        "      <td>-1.211405</td>\n",
        "      <td> 0.572463</td>\n",
        "    </tr>\n",
        "    <tr>\n",
        "      <th>5</th>\n",
        "      <td> bar</td>\n",
        "      <td>   two</td>\n",
        "      <td> 0.127151</td>\n",
        "      <td> 0.591901</td>\n",
        "    </tr>\n",
        "    <tr>\n",
        "      <th>6</th>\n",
        "      <td> foo</td>\n",
        "      <td>   one</td>\n",
        "      <td>-0.667764</td>\n",
        "      <td> 0.077828</td>\n",
        "    </tr>\n",
        "    <tr>\n",
        "      <th>7</th>\n",
        "      <td> foo</td>\n",
        "      <td> three</td>\n",
        "      <td>-0.771982</td>\n",
        "      <td>-1.759099</td>\n",
        "    </tr>\n",
        "  </tbody>\n",
        "</table>\n",
        "<p>8 rows \u00d7 4 columns</p>\n",
        "</div>"
       ],
       "metadata": {},
       "output_type": "pyout",
       "prompt_number": 125,
       "text": [
        "     A      B         C         D\n",
        "0  foo    one  0.657802 -1.068971\n",
        "1  bar    one -0.319304 -0.433808\n",
        "2  foo    two  2.126808  0.409345\n",
        "3  bar  three  1.857345  0.387510\n",
        "4  foo    two -1.211405  0.572463\n",
        "5  bar    two  0.127151  0.591901\n",
        "6  foo    one -0.667764  0.077828\n",
        "7  foo  three -0.771982 -1.759099\n",
        "\n",
        "[8 rows x 4 columns]"
       ]
      }
     ],
     "prompt_number": 125
    },
    {
     "cell_type": "code",
     "collapsed": false,
     "input": [
      "df.groupby(['A','B']).sum()"
     ],
     "language": "python",
     "metadata": {
      "slideshow": {
       "slide_type": "fragment"
      }
     },
     "outputs": [
      {
       "html": [
        "<div style=\"max-height:1000px;max-width:1500px;overflow:auto;\">\n",
        "<table border=\"1\" class=\"dataframe\">\n",
        "  <thead>\n",
        "    <tr style=\"text-align: right;\">\n",
        "      <th></th>\n",
        "      <th></th>\n",
        "      <th>C</th>\n",
        "      <th>D</th>\n",
        "    </tr>\n",
        "    <tr>\n",
        "      <th>A</th>\n",
        "      <th>B</th>\n",
        "      <th></th>\n",
        "      <th></th>\n",
        "    </tr>\n",
        "  </thead>\n",
        "  <tbody>\n",
        "    <tr>\n",
        "      <th rowspan=\"3\" valign=\"top\">bar</th>\n",
        "      <th>one</th>\n",
        "      <td>-0.319304</td>\n",
        "      <td>-0.433808</td>\n",
        "    </tr>\n",
        "    <tr>\n",
        "      <th>three</th>\n",
        "      <td> 1.857345</td>\n",
        "      <td> 0.387510</td>\n",
        "    </tr>\n",
        "    <tr>\n",
        "      <th>two</th>\n",
        "      <td> 0.127151</td>\n",
        "      <td> 0.591901</td>\n",
        "    </tr>\n",
        "    <tr>\n",
        "      <th rowspan=\"3\" valign=\"top\">foo</th>\n",
        "      <th>one</th>\n",
        "      <td>-0.009962</td>\n",
        "      <td>-0.991143</td>\n",
        "    </tr>\n",
        "    <tr>\n",
        "      <th>three</th>\n",
        "      <td>-0.771982</td>\n",
        "      <td>-1.759099</td>\n",
        "    </tr>\n",
        "    <tr>\n",
        "      <th>two</th>\n",
        "      <td> 0.915403</td>\n",
        "      <td> 0.981808</td>\n",
        "    </tr>\n",
        "  </tbody>\n",
        "</table>\n",
        "<p>6 rows \u00d7 2 columns</p>\n",
        "</div>"
       ],
       "metadata": {},
       "output_type": "pyout",
       "prompt_number": 126,
       "text": [
        "                  C         D\n",
        "A   B                        \n",
        "bar one   -0.319304 -0.433808\n",
        "    three  1.857345  0.387510\n",
        "    two    0.127151  0.591901\n",
        "foo one   -0.009962 -0.991143\n",
        "    three -0.771982 -1.759099\n",
        "    two    0.915403  0.981808\n",
        "\n",
        "[6 rows x 2 columns]"
       ]
      }
     ],
     "prompt_number": 126
    },
    {
     "cell_type": "markdown",
     "metadata": {
      "slideshow": {
       "slide_type": "subslide"
      }
     },
     "source": [
      "###Reshaping"
     ]
    },
    {
     "cell_type": "code",
     "collapsed": false,
     "input": [
      "# You can also stack or unstack levels"
     ],
     "language": "python",
     "metadata": {
      "slideshow": {
       "slide_type": "fragment"
      }
     },
     "outputs": []
    },
    {
     "cell_type": "code",
     "collapsed": false,
     "input": [
      "a = df.groupby(['A','B']).sum()"
     ],
     "language": "python",
     "metadata": {
      "slideshow": {
       "slide_type": "fragment"
      }
     },
     "outputs": [],
     "prompt_number": 127
    },
    {
     "cell_type": "code",
     "collapsed": false,
     "input": [
      "# Pivot Tables\n",
      "pd.pivot_table(df,values=['C','D'],rows=['A'],cols=['B'])"
     ],
     "language": "python",
     "metadata": {
      "slideshow": {
       "slide_type": "fragment"
      }
     },
     "outputs": [
      {
       "html": [
        "<div style=\"max-height:1000px;max-width:1500px;overflow:auto;\">\n",
        "<table border=\"1\" class=\"dataframe\">\n",
        "  <thead>\n",
        "    <tr>\n",
        "      <th></th>\n",
        "      <th colspan=\"3\" halign=\"left\">C</th>\n",
        "      <th colspan=\"3\" halign=\"left\">D</th>\n",
        "    </tr>\n",
        "    <tr>\n",
        "      <th>B</th>\n",
        "      <th>one</th>\n",
        "      <th>three</th>\n",
        "      <th>two</th>\n",
        "      <th>one</th>\n",
        "      <th>three</th>\n",
        "      <th>two</th>\n",
        "    </tr>\n",
        "    <tr>\n",
        "      <th>A</th>\n",
        "      <th></th>\n",
        "      <th></th>\n",
        "      <th></th>\n",
        "      <th></th>\n",
        "      <th></th>\n",
        "      <th></th>\n",
        "    </tr>\n",
        "  </thead>\n",
        "  <tbody>\n",
        "    <tr>\n",
        "      <th>bar</th>\n",
        "      <td>-0.319304</td>\n",
        "      <td> 1.857345</td>\n",
        "      <td> 0.127151</td>\n",
        "      <td>-0.433808</td>\n",
        "      <td> 0.387510</td>\n",
        "      <td> 0.591901</td>\n",
        "    </tr>\n",
        "    <tr>\n",
        "      <th>foo</th>\n",
        "      <td>-0.004981</td>\n",
        "      <td>-0.771982</td>\n",
        "      <td> 0.457702</td>\n",
        "      <td>-0.495572</td>\n",
        "      <td>-1.759099</td>\n",
        "      <td> 0.490904</td>\n",
        "    </tr>\n",
        "  </tbody>\n",
        "</table>\n",
        "<p>2 rows \u00d7 6 columns</p>\n",
        "</div>"
       ],
       "metadata": {},
       "output_type": "pyout",
       "prompt_number": 128,
       "text": [
        "            C                             D                    \n",
        "B         one     three       two       one     three       two\n",
        "A                                                              \n",
        "bar -0.319304  1.857345  0.127151 -0.433808  0.387510  0.591901\n",
        "foo -0.004981 -0.771982  0.457702 -0.495572 -1.759099  0.490904\n",
        "\n",
        "[2 rows x 6 columns]"
       ]
      }
     ],
     "prompt_number": 128
    },
    {
     "cell_type": "markdown",
     "metadata": {
      "slideshow": {
       "slide_type": "subslide"
      }
     },
     "source": [
      "### Time Series\n"
     ]
    },
    {
     "cell_type": "code",
     "collapsed": false,
     "input": [
      "import pandas as pd\n",
      "import numpy as np"
     ],
     "language": "python",
     "metadata": {},
     "outputs": [],
     "prompt_number": 129
    },
    {
     "cell_type": "code",
     "collapsed": false,
     "input": [
      "# 100 Seconds starting on January 1st\n",
      "rng = pd.date_range('1/1/2014', periods=100, freq='S')\n",
      "rng"
     ],
     "language": "python",
     "metadata": {
      "slideshow": {
       "slide_type": "fragment"
      }
     },
     "outputs": [
      {
       "metadata": {},
       "output_type": "pyout",
       "prompt_number": 131,
       "text": [
        "<class 'pandas.tseries.index.DatetimeIndex'>\n",
        "[2014-01-01 00:00:00, ..., 2014-01-01 00:01:39]\n",
        "Length: 100, Freq: S, Timezone: None"
       ]
      }
     ],
     "prompt_number": 131
    },
    {
     "cell_type": "code",
     "collapsed": false,
     "input": [
      "# Give each second a random value\n",
      "ts = pd.Series(np.random.randint(0, 500, len(rng)), index=rng)"
     ],
     "language": "python",
     "metadata": {
      "slideshow": {
       "slide_type": "fragment"
      }
     },
     "outputs": [],
     "prompt_number": 132
    },
    {
     "cell_type": "code",
     "collapsed": false,
     "input": [
      "ts"
     ],
     "language": "python",
     "metadata": {
      "slideshow": {
       "slide_type": "fragment"
      }
     },
     "outputs": [
      {
       "metadata": {},
       "output_type": "pyout",
       "prompt_number": 133,
       "text": [
        "2014-01-01 00:00:00     85\n",
        "2014-01-01 00:00:01    100\n",
        "2014-01-01 00:00:02    492\n",
        "2014-01-01 00:00:03    298\n",
        "2014-01-01 00:00:04    263\n",
        "2014-01-01 00:00:05    112\n",
        "2014-01-01 00:00:06    423\n",
        "2014-01-01 00:00:07      8\n",
        "2014-01-01 00:00:08    467\n",
        "2014-01-01 00:00:09    126\n",
        "2014-01-01 00:00:10     61\n",
        "2014-01-01 00:00:11    144\n",
        "2014-01-01 00:00:12     65\n",
        "2014-01-01 00:00:13    303\n",
        "2014-01-01 00:00:14    329\n",
        "...\n",
        "2014-01-01 00:01:25    236\n",
        "2014-01-01 00:01:26    115\n",
        "2014-01-01 00:01:27    340\n",
        "2014-01-01 00:01:28    116\n",
        "2014-01-01 00:01:29    428\n",
        "2014-01-01 00:01:30    246\n",
        "2014-01-01 00:01:31     57\n",
        "2014-01-01 00:01:32    202\n",
        "2014-01-01 00:01:33    326\n",
        "2014-01-01 00:01:34    483\n",
        "2014-01-01 00:01:35    144\n",
        "2014-01-01 00:01:36     73\n",
        "2014-01-01 00:01:37    451\n",
        "2014-01-01 00:01:38    189\n",
        "2014-01-01 00:01:39    116\n",
        "Freq: S, Length: 100"
       ]
      }
     ],
     "prompt_number": 133
    },
    {
     "cell_type": "code",
     "collapsed": false,
     "input": [
      "# Built in resampling\n",
      "ts.resample('1Min',how='mean') # Resample secondly to 1Minutely"
     ],
     "language": "python",
     "metadata": {
      "slideshow": {
       "slide_type": "subslide"
      }
     },
     "outputs": [
      {
       "metadata": {},
       "output_type": "pyout",
       "prompt_number": 135,
       "text": [
        "2014-01-01 00:00:00    251.783333\n",
        "2014-01-01 00:01:00    226.925000\n",
        "Freq: T, dtype: float64"
       ]
      }
     ],
     "prompt_number": 135
    },
    {
     "cell_type": "code",
     "collapsed": false,
     "input": [
      "# Many additional time series features\n",
      "ts. #use tab"
     ],
     "language": "python",
     "metadata": {
      "slideshow": {
       "slide_type": "slide"
      }
     },
     "outputs": []
    },
    {
     "cell_type": "markdown",
     "metadata": {
      "slideshow": {
       "slide_type": "slide"
      }
     },
     "source": [
      "###Plotting\n"
     ]
    },
    {
     "cell_type": "code",
     "collapsed": false,
     "input": [
      "ts.plot()"
     ],
     "language": "python",
     "metadata": {
      "slideshow": {
       "slide_type": "subslide"
      }
     },
     "outputs": [],
     "prompt_number": 141
    },
    {
     "cell_type": "code",
     "collapsed": false,
     "input": [
      "def randwalk(startdate,points):\n",
      "    ts = pd.Series(np.random.randn(points), index=pd.date_range(startdate, periods=points))\n",
      "    ts=ts.cumsum()\n",
      "    ts.plot()\n",
      "    return(ts)"
     ],
     "language": "python",
     "metadata": {
      "slideshow": {
       "slide_type": "subslide"
      }
     },
     "outputs": [],
     "prompt_number": 137
    },
    {
     "cell_type": "code",
     "collapsed": false,
     "input": [
      "# Using pandas to make a simple random walker by repeatedly running:\n",
      "a=randwalk('1/1/2012',1000)"
     ],
     "language": "python",
     "metadata": {
      "slideshow": {
       "slide_type": "fragment"
      }
     },
     "outputs": [],
     "prompt_number": 138
    },
    {
     "cell_type": "code",
     "collapsed": false,
     "input": [
      "# Pandas plot function will print with labels as default"
     ],
     "language": "python",
     "metadata": {
      "slideshow": {
       "slide_type": "subslide"
      }
     },
     "outputs": []
    },
    {
     "cell_type": "code",
     "collapsed": false,
     "input": [
      "df = pd.DataFrame(np.random.randn(100, 4), index=ts.index,columns=['A', 'B', 'C', 'D'])\n",
      "df = df.cumsum()\n",
      "plt.figure();df.plot();plt.legend(loc='best') #"
     ],
     "language": "python",
     "metadata": {
      "slideshow": {
       "slide_type": "fragment"
      }
     },
     "outputs": [
      {
       "metadata": {},
       "output_type": "pyout",
       "prompt_number": 139,
       "text": [
        "<matplotlib.legend.Legend at 0x109674290>"
       ]
      }
     ],
     "prompt_number": 139
    },
    {
     "cell_type": "markdown",
     "metadata": {
      "slideshow": {
       "slide_type": "subslide"
      }
     },
     "source": [
      "###I/O\n",
      "I/O is straightforward with, for example, pd.read_csv or df.to_csv"
     ]
    },
    {
     "cell_type": "markdown",
     "metadata": {
      "slideshow": {
       "slide_type": "subslide"
      }
     },
     "source": [
      "#### The benefits of open source:\n",
      "\n",
      "Let's look under x's in plt modules"
     ]
    },
    {
     "cell_type": "markdown",
     "metadata": {
      "slideshow": {
       "slide_type": "slide"
      }
     },
     "source": [
      "#Lab"
     ]
    },
    {
     "cell_type": "markdown",
     "metadata": {
      "slideshow": {
       "slide_type": "slide"
      }
     },
     "source": [
      "# Next Steps\n",
      "\n",
      "**Recommended Resources**\n",
      "\n",
      "Name | Description\n",
      "--- | ---\n",
      "[Official Pandas Tutorials](http://pandas.pydata.org/pandas-docs/stable/tutorials.html) | Wes & Company's selection of tutorials and lectures\n",
      "[Julia Evans Pandas Cookbook](https://github.com/jvns/pandas-cookbook) | Great resource with examples from weather, bikes and 311 calls\n",
      "[Learn Pandas Tutorials](https://bitbucket.org/hrojas/learn-pandas) | A great series of Pandas tutorials from Dave Rojas\n",
      "[Research Computing Python Data PYNBs](https://github.com/ResearchComputing/Meetup-Fall-2013/tree/master/python) | A super awesome set of python notebooks from a meetup-based course exclusively devoted to pandas"
     ]
    }
   ],
   "metadata": {}
  }
 ]
}